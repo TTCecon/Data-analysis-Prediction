{
 "cells": [
  {
   "cell_type": "code",
   "execution_count": 2,
   "id": "f0ab7d83",
   "metadata": {},
   "outputs": [],
   "source": [
    "import pandas as pd\n",
    "import numpy as np\n",
    "import matplotlib.pyplot as plt\n",
    "import seaborn as sns\n",
    "from sklearn.linear_model import LinearRegression\n",
    "from sklearn.ensemble import RandomForestClassifier\n",
    "from sklearn.metrics import mean_squared_error, r2_score\n",
    "from sklearn.linear_model import LogisticRegression\n",
    "from sklearn.model_selection import train_test_split\n",
    "from sklearn.metrics import accuracy_score, classification_report, confusion_matrix\n",
    "from imblearn.under_sampling import TomekLinks\n",
    "from imblearn.over_sampling import SMOTE\n",
    "import matplotlib.font_manager as font_manager\n",
    "from matplotlib import rcParams"
   ]
  },
  {
   "cell_type": "code",
   "execution_count": 3,
   "id": "769335ec",
   "metadata": {},
   "outputs": [],
   "source": [
    "data1 = pd.read_csv(\"file1.csv\")\n",
    "data2 = pd.read_csv(\"file2.csv\")\n",
    "data3 = pd.read_csv(\"file3.csv\")"
   ]
  },
  {
   "cell_type": "code",
   "execution_count": 3,
   "id": "7bce8502",
   "metadata": {},
   "outputs": [],
   "source": [
    "data = pd.merge(data1,data2,on=\"srno_2\")"
   ]
  },
  {
   "cell_type": "code",
   "execution_count": 4,
   "id": "c854b7a4",
   "metadata": {},
   "outputs": [],
   "source": [
    "data[\"yyyymm\"] = pd.to_datetime(data[\"yyyymm\"], format='%Y%m')\n",
    "data[[\"YN_Web_Active\", \"YN_secur\", \"YN_SLR\"]] = data[[\"YN_Web_Active\", \"YN_secur\", \"YN_SLR\"]].fillna(False)\n",
    "data[[\"YN_Web_Active\", \"YN_secur\", \"YN_SLR\"]]  = data[[\"YN_Web_Active\", \"YN_secur\", \"YN_SLR\"]].replace(\"Y\", True)\n",
    "data[[\"intr_12\",\"intr_13\"]] = data[[\"intr_12\",\"intr_13\"]].replace(\"Y\",1)"
   ]
  },
  {
   "cell_type": "code",
   "execution_count": 10,
   "id": "94f3d3b8",
   "metadata": {},
   "outputs": [
    {
     "name": "stdout",
     "output_type": "stream",
     "text": [
      "              srno_2         gender           age           edu  \\\n",
      "count  200000.000000  200000.000000  200000.00000  200000.00000   \n",
      "mean   100000.500000       0.399245      39.14153       3.48083   \n",
      "std     57735.171256       0.489744       9.37352       1.05619   \n",
      "min         1.000000       0.000000      20.00000       1.00000   \n",
      "25%     50000.750000       0.000000      31.00000       3.00000   \n",
      "50%    100000.500000       0.000000      38.00000       3.00000   \n",
      "75%    150000.250000       1.000000      46.00000       4.00000   \n",
      "max    200000.000000       1.000000      60.00000       6.00000   \n",
      "\n",
      "                 mry            job           occp            zip  \\\n",
      "count  200000.000000  200000.000000  200000.000000  200000.000000   \n",
      "mean        0.341020       2.507985       6.778830       8.174275   \n",
      "std         0.474053       1.548751       3.313415       5.762305   \n",
      "min         0.000000       1.000000       1.000000       1.000000   \n",
      "25%         0.000000       1.000000       3.000000       3.000000   \n",
      "50%         0.000000       2.000000       8.000000       7.000000   \n",
      "75%         1.000000       4.000000      10.000000      14.000000   \n",
      "max         1.000000       5.000000      11.000000      99.000000   \n",
      "\n",
      "            intr_01        intr_02        intr_03        intr_04  \\\n",
      "count  200000.00000  200000.000000  200000.000000  200000.000000   \n",
      "mean      150.70659       1.649975       0.155582      41.137475   \n",
      "std        38.76417       1.064835       0.277780      52.706044   \n",
      "min         0.00000       0.000000       0.000000       0.000000   \n",
      "25%       124.00000       1.000000       0.000000       5.000000   \n",
      "50%       150.00000       1.000000       0.000000      22.000000   \n",
      "75%       177.00000       2.000000       0.220000      57.000000   \n",
      "max       335.00000      15.000000       2.000000    1338.000000   \n",
      "\n",
      "            intr_05        intr_06        intr_07        intr_08  \\\n",
      "count  2.000000e+05  200000.000000  200000.000000  200000.000000   \n",
      "mean   4.725140e+04       9.456670       0.024245       0.457975   \n",
      "std    8.995555e+04      22.196105       0.153809       1.264414   \n",
      "min    0.000000e+00       1.000000       0.000000       0.000000   \n",
      "25%    5.274000e+03       3.000000       0.000000       0.000000   \n",
      "50%    2.477900e+04       4.000000       0.000000       0.000000   \n",
      "75%    5.974800e+04       5.000000       0.000000       0.000000   \n",
      "max    1.627640e+07      99.000000       1.000000       6.000000   \n",
      "\n",
      "             intr_09       intr_10        intr_11  \n",
      "count  200000.000000  2.000000e+05  200000.000000  \n",
      "mean        5.372695  1.053427e+04       0.310355  \n",
      "std        22.303814  6.449045e+04       1.895356  \n",
      "min         0.000000  0.000000e+00       0.000000  \n",
      "25%         0.000000  0.000000e+00       0.000000  \n",
      "50%         1.000000  3.095000e+02       0.000000  \n",
      "75%         4.000000  8.180250e+03       0.000000  \n",
      "max      2428.000000  1.895914e+07      93.000000  \n"
     ]
    }
   ],
   "source": [
    "print(data1.describe()) #第一份檔案的資料簡介"
   ]
  },
  {
   "cell_type": "code",
   "execution_count": 11,
   "id": "5b7c868c",
   "metadata": {},
   "outputs": [
    {
     "name": "stdout",
     "output_type": "stream",
     "text": [
      "             srno_2        yyyymm         aum01         aum02         aum03  \\\n",
      "count  2.400000e+06  2.400000e+06  2.400000e+06  2.400000e+06  2.400000e+06   \n",
      "mean   1.000005e+05  2.022982e+05  1.095106e+05  8.773084e+04  1.115816e+04   \n",
      "std    5.773504e+04  2.615605e+01  4.303756e+05  3.804042e+05  1.268040e+05   \n",
      "min    1.000000e+00  2.022120e+05  0.000000e+00  0.000000e+00  0.000000e+00   \n",
      "25%    5.000075e+04  2.023028e+05  0.000000e+00  0.000000e+00  0.000000e+00   \n",
      "50%    1.000005e+05  2.023055e+05  0.000000e+00  0.000000e+00  0.000000e+00   \n",
      "75%    1.500002e+05  2.023082e+05  8.390000e+03  5.988000e+03  0.000000e+00   \n",
      "max    2.000000e+05  2.023110e+05  7.406994e+07  7.406994e+07  2.007906e+07   \n",
      "\n",
      "              aum04         aum05         aum06         aum07         aum08  \\\n",
      "count  2.400000e+06  2.400000e+06  2.400000e+06  2.400000e+06  2.400000e+06   \n",
      "mean   2.177980e+04  2.994499e+03  1.549526e+04  1.550547e+03  4.691206e+02   \n",
      "std    1.627920e+05  5.290254e+04  1.310568e+05  4.424234e+04  2.310636e+04   \n",
      "min    0.000000e+00  0.000000e+00  0.000000e+00  0.000000e+00  0.000000e+00   \n",
      "25%    0.000000e+00  0.000000e+00  0.000000e+00  0.000000e+00  0.000000e+00   \n",
      "50%    0.000000e+00  0.000000e+00  0.000000e+00  0.000000e+00  0.000000e+00   \n",
      "75%    0.000000e+00  0.000000e+00  0.000000e+00  0.000000e+00  0.000000e+00   \n",
      "max    1.921952e+07  8.434249e+06  1.921952e+07  6.206197e+06  6.652672e+06   \n",
      "\n",
      "       ...        dep_c4  AMT_Exchange_A  AMT_Exchange_B  CNT_Exchange_A  \\\n",
      "count  ...  2.400000e+06    2.400000e+06    2.400000e+06    2.400000e+06   \n",
      "mean   ...  2.060055e+00    3.691252e+02    1.183957e+03    2.858333e-03   \n",
      "std    ...  6.110054e+00    4.794415e+04    4.068883e+04    7.136291e-02   \n",
      "min    ...  0.000000e+00    0.000000e+00    0.000000e+00    0.000000e+00   \n",
      "25%    ...  0.000000e+00    0.000000e+00    0.000000e+00    0.000000e+00   \n",
      "50%    ...  0.000000e+00    0.000000e+00    0.000000e+00    0.000000e+00   \n",
      "75%    ...  2.000000e+00    0.000000e+00    0.000000e+00    0.000000e+00   \n",
      "max    ...  1.466000e+03    3.567782e+07    3.234445e+07    2.300000e+01   \n",
      "\n",
      "       CNT_Exchange_B  CNT_WBMB_Login       INV_ADV     rs_prod_1  \\\n",
      "count    2.400000e+06    2.400000e+06  2.400000e+06  2.400000e+06   \n",
      "mean     1.850083e-02    1.901196e+00  2.030942e-01  4.753333e-03   \n",
      "std      2.923045e-01    4.033179e+00  1.741061e+00  6.878038e-02   \n",
      "min      0.000000e+00    0.000000e+00  0.000000e+00  0.000000e+00   \n",
      "25%      0.000000e+00    0.000000e+00  0.000000e+00  0.000000e+00   \n",
      "50%      0.000000e+00    0.000000e+00  0.000000e+00  0.000000e+00   \n",
      "75%      0.000000e+00    2.000000e+00  0.000000e+00  0.000000e+00   \n",
      "max      1.320000e+02    5.600000e+01  3.200000e+01  1.000000e+00   \n",
      "\n",
      "          rs_prod_2     rs_prod_3  \n",
      "count  2.400000e+06  2.400000e+06  \n",
      "mean   1.260708e-02  1.999917e-02  \n",
      "std    1.115713e-01  1.399972e-01  \n",
      "min    0.000000e+00  0.000000e+00  \n",
      "25%    0.000000e+00  0.000000e+00  \n",
      "50%    0.000000e+00  0.000000e+00  \n",
      "75%    0.000000e+00  0.000000e+00  \n",
      "max    1.000000e+00  1.000000e+00  \n",
      "\n",
      "[8 rows x 73 columns]\n"
     ]
    }
   ],
   "source": [
    "print(data2.describe())#第二份檔案的資料簡介"
   ]
  },
  {
   "cell_type": "code",
   "execution_count": 12,
   "id": "15b1b6bd",
   "metadata": {},
   "outputs": [
    {
     "name": "stdout",
     "output_type": "stream",
     "text": [
      "              srno_2      rs_prod_1      rs_prod_2      rs_prod_3\n",
      "count  200000.000000  200000.000000  200000.000000  200000.000000\n",
      "mean   100000.500000       0.018335       0.028815       0.044790\n",
      "std     57735.171256       0.134160       0.167287       0.206843\n",
      "min         1.000000       0.000000       0.000000       0.000000\n",
      "25%     50000.750000       0.000000       0.000000       0.000000\n",
      "50%    100000.500000       0.000000       0.000000       0.000000\n",
      "75%    150000.250000       0.000000       0.000000       0.000000\n",
      "max    200000.000000       1.000000       1.000000       1.000000\n"
     ]
    }
   ],
   "source": [
    "print(data3.describe())#第三份檔案的資料簡介"
   ]
  },
  {
   "cell_type": "code",
   "execution_count": 17,
   "id": "87a1e71b",
   "metadata": {},
   "outputs": [
    {
     "data": {
      "image/png": "[encoded data removed]",
      "text/plain": [
       "<Figure size 640x480 with 1 Axes>"
      ]
     },
     "metadata": {},
     "output_type": "display_data"
    }
   ],
   "source": [
    "import matplotlib.pyplot as plt\n",
    "\n",
    "data1['age'].hist(bins=30)\n",
    "plt.xlabel('age')\n",
    "plt.ylabel('Frequency')\n",
    "plt.title('age')\n",
    "plt.show()\n",
    "#年齡分佈圖"
   ]
  },
  {
   "cell_type": "code",
   "execution_count": 18,
   "id": "ebaec116",
   "metadata": {},
   "outputs": [
    {
     "data": {
      "image/png": "[encoded data removed]",
      "text/plain": [
       "<Figure size 640x480 with 1 Axes>"
      ]
     },
     "metadata": {},
     "output_type": "display_data"
    }
   ],
   "source": [
    "import matplotlib.pyplot as plt\n",
    "\n",
    "data1['intr_01'].hist(bins=30)\n",
    "plt.xlabel('intr_01')\n",
    "plt.ylabel('Frequency')\n",
    "plt.title('intr_01')\n",
    "plt.show()\n",
    "#intr分佈圖"
   ]
  },
  {
   "cell_type": "code",
   "execution_count": 4,
   "id": "c036ec02",
   "metadata": {},
   "outputs": [
    {
     "data": {
      "image/png": "[encoded data removed]",
      "text/plain": [
       "<Figure size 640x480 with 1 Axes>"
      ]
     },
     "metadata": {},
     "output_type": "display_data"
    }
   ],
   "source": [
    "import matplotlib.pyplot as plt\n",
    "\n",
    "data1['edu'].hist(bins=30)\n",
    "plt.xlabel('Job title')\n",
    "plt.ylabel('Frequency')\n",
    "plt.title('Job title')\n",
    "plt.show()\n",
    "#intr分佈圖"
   ]
  },
  {
   "cell_type": "code",
   "execution_count": 44,
   "id": "54546a4d",
   "metadata": {},
   "outputs": [
    {
     "data": {
      "image/png": "[encoded data removed]",
      "text/plain": [
       "<Figure size 2000x1500 with 21 Axes>"
      ]
     },
     "metadata": {},
     "output_type": "display_data"
    }
   ],
   "source": [
    "import pandas as pd\n",
    "import matplotlib.pyplot as plt\n",
    "\n",
    "# 設置圖形的大小\n",
    "plt.figure(figsize=(20, 15))\n",
    "\n",
    "# 設定子圖的行數和列數\n",
    "num_columns = len(data1.columns)\n",
    "num_rows = (num_columns + 2) // 3  # 每行顯示3個直方圖\n",
    "\n",
    "for i, column in enumerate(data1.columns, 1):\n",
    "    plt.subplot(num_rows, 3, i)  # 在網格中添加子圖\n",
    "    data1[column].hist(bins=50, edgecolor='black')\n",
    "    plt.title(column)\n",
    "    plt.xlabel('')\n",
    "    plt.ylabel('')\n",
    "    plt.subplots_adjust(hspace=0.4, wspace=0.3)"
   ]
  },
  {
   "cell_type": "code",
   "execution_count": 49,
   "id": "11028847",
   "metadata": {},
   "outputs": [
    {
     "data": {
      "image/png": "[encoded data removed]",
      "text/plain": [
       "<Figure size 2000x1500 with 4 Axes>"
      ]
     },
     "metadata": {},
     "output_type": "display_data"
    }
   ],
   "source": [
    "import pandas as pd\n",
    "import matplotlib.pyplot as plt\n",
    "\n",
    "# 設置圖形的大小\n",
    "plt.figure(figsize=(20, 15))\n",
    "\n",
    "# 設定子圖的行數和列數\n",
    "num_columns = len(data3.columns)\n",
    "num_rows = (num_columns + 2) // 3  # 每行顯示3個直方圖\n",
    "\n",
    "for i, column in enumerate(data3.columns, 1):\n",
    "    plt.subplot(num_rows, 3, i)  # 在網格中添加子圖\n",
    "    data3[column].hist(bins=30, edgecolor='black')\n",
    "    plt.title(column)\n",
    "    plt.xlabel('')\n",
    "    plt.ylabel('')\n",
    "    plt.subplots_adjust(hspace=0.4, wspace=0.3)"
   ]
  },
  {
   "cell_type": "code",
   "execution_count": 59,
   "id": "6c6ff354",
   "metadata": {},
   "outputs": [
    {
     "data": {
      "image/png": "[encoded data removed]",
      "text/plain": [
       "<Figure size 640x480 with 1 Axes>"
      ]
     },
     "metadata": {},
     "output_type": "display_data"
    }
   ],
   "source": [
    "data2.plot.scatter(x='dep_a1', y='dep_a2')\n",
    "plt.title('Scatter Plot of Number of Transfer')\n",
    "plt.show()"
   ]
  },
  {
   "cell_type": "code",
   "execution_count": 63,
   "id": "2f688003",
   "metadata": {},
   "outputs": [
    {
     "name": "stdout",
     "output_type": "stream",
     "text": [
      "[[704367   1368]\n",
      " [ 13411    854]]\n",
      "              precision    recall  f1-score   support\n",
      "\n",
      "           0       0.98      1.00      0.99    705735\n",
      "           1       0.38      0.06      0.10     14265\n",
      "\n",
      "    accuracy                           0.98    720000\n",
      "   macro avg       0.68      0.53      0.55    720000\n",
      "weighted avg       0.97      0.98      0.97    720000\n",
      "\n",
      "Accuracy: 0.9794736111111111\n"
     ]
    },
    {
     "name": "stderr",
     "output_type": "stream",
     "text": [
      "/opt/anaconda3/lib/python3.11/site-packages/sklearn/base.py:432: UserWarning: X has feature names, but RandomForestClassifier was fitted without feature names\n",
      "  warnings.warn(\n"
     ]
    },
    {
     "name": "stdout",
     "output_type": "stream",
     "text": [
      "         srno_2  gender  age  edu  mry  job  occp  zip  intr_01  intr_02  ...  \\\n",
      "7459        622       1   28    3    0    5     4    7      126        1  ...   \n",
      "12086      1008       0   52    5    0    4    10    3      162        1  ...   \n",
      "13829      1153       1   35    3    0    1     5    1      121        1  ...   \n",
      "47267      3939       0   33    3    1    4     4    9      195        2  ...   \n",
      "50787      4233       0   31    3    0    2    11   15      212        3  ...   \n",
      "...         ...     ...  ...  ...  ...  ...   ...  ...      ...      ...  ...   \n",
      "2391965  199331       1   29    3    0    1     2    1      228        2  ...   \n",
      "2394288  199525       0   45    6    1    5    11    3      124        1  ...   \n",
      "2394929  199578       0   30    2    0    1     5    3      165        1  ...   \n",
      "2395977  199665       0   52    3    1    1    11    9      218        4  ...   \n",
      "2399357  199947       1   51    2    0    2     5   16      168        1  ...   \n",
      "\n",
      "         CNT_Exchange_B  YN_Web_Active  YN_secur  CNT_WBMB_Login  YN_SLR  \\\n",
      "7459                  0          False     False               0   False   \n",
      "12086                 0           True     False              10    True   \n",
      "13829                 0          False     False               0   False   \n",
      "47267                 0           True     False               1   False   \n",
      "50787                 0           True     False               7   False   \n",
      "...                 ...            ...       ...             ...     ...   \n",
      "2391965               0           True      True               7   False   \n",
      "2394288               7           True      True               6   False   \n",
      "2394929               0           True     False               4   False   \n",
      "2395977               0           True     False               7   False   \n",
      "2399357               0           True     False               4   False   \n",
      "\n",
      "         INV_ADV  rs_prod_1  rs_prod_2  rs_prod_3 prediction  \n",
      "7459           0          0          0          0          1  \n",
      "12086          0          0          0          0          1  \n",
      "13829          0          0          0          0          1  \n",
      "47267          0          0          0          0          1  \n",
      "50787          5          0          0          0          1  \n",
      "...          ...        ...        ...        ...        ...  \n",
      "2391965       20          0          0          0          1  \n",
      "2394288        0          0          1          0          1  \n",
      "2394929        0          0          0          0          1  \n",
      "2395977       17          0          0          0          1  \n",
      "2399357        0          0          0          0          1  \n",
      "\n",
      "[427 rows x 97 columns]\n"
     ]
    }
   ],
   "source": [
    "import pandas as pd\n",
    "from sklearn.model_selection import train_test_split\n",
    "from sklearn.preprocessing import StandardScaler\n",
    "from sklearn.ensemble import RandomForestClassifier\n",
    "from sklearn.metrics import classification_report, confusion_matrix, accuracy_score\n",
    "\n",
    "# 加載數據\n",
    "data2 = pd.read_csv(\"file2.csv\")\n",
    "\n",
    "# 選擇特徵和目標變數\n",
    "features = ['dep_a1', 'dep_a2', 'dep_a3', 'dep_a4', 'dep_c1', 'dep_c2', \n",
    "            'dep_c3', 'dep_c4', 'AMT_Exchange_A', 'AMT_Exchange_B', \n",
    "            'CNT_Exchange_A', 'CNT_Exchange_B', 'YN_Web_Active']\n",
    "target = 'rs_prod_3'  # 目標變數\n",
    "\n",
    "X = data[features]\n",
    "y = data[target]\n",
    "\n",
    "# 分割數據集\n",
    "X_train, X_test, y_train, y_test = train_test_split(X, y, test_size=0.3, random_state=42)\n",
    "\n",
    "# 數據標準化\n",
    "scaler = StandardScaler()\n",
    "X_train = scaler.fit_transform(X_train)\n",
    "X_test = scaler.transform(X_test)\n",
    "\n",
    "# 訓練模型\n",
    "model = RandomForestClassifier(random_state=42)\n",
    "model.fit(X_train, y_train)\n",
    "\n",
    "# 預測\n",
    "y_pred = model.predict(X_test)\n",
    "\n",
    "# 評估模型\n",
    "print(confusion_matrix(y_test, y_pred))\n",
    "print(classification_report(y_test, y_pred))\n",
    "print(f'Accuracy: {accuracy_score(y_test, y_pred)}')\n",
    "\n",
    "# 根據預測結果識別潛在客戶\n",
    "data['prediction'] = model.predict(X)\n",
    "potential_customers = data[data['prediction'] == 1]  # 假設 1 表示有意願購買基金\n",
    "print(potential_customers)\n"
   ]
  },
  {
   "cell_type": "code",
   "execution_count": 65,
   "id": "a6f77c1e",
   "metadata": {},
   "outputs": [
    {
     "name": "stdout",
     "output_type": "stream",
     "text": [
      "[[294195 411540]\n",
      " [  6622   7643]]\n",
      "              precision    recall  f1-score   support\n",
      "\n",
      "           0       0.98      0.42      0.58    705735\n",
      "           1       0.02      0.54      0.04     14265\n",
      "\n",
      "    accuracy                           0.42    720000\n",
      "   macro avg       0.50      0.48      0.31    720000\n",
      "weighted avg       0.96      0.42      0.57    720000\n",
      "\n",
      "Accuracy: 0.4192194444444444\n"
     ]
    },
    {
     "data": {
      "image/png": "[encoded data removed]",
      "text/plain": [
       "<Figure size 640x480 with 1 Axes>"
      ]
     },
     "metadata": {},
     "output_type": "display_data"
    },
    {
     "data": {
      "image/png": "[encoded data removed]",
      "text/plain": [
       "<Figure size 640x480 with 1 Axes>"
      ]
     },
     "metadata": {},
     "output_type": "display_data"
    }
   ],
   "source": [
    "import pandas as pd\n",
    "from sklearn.model_selection import train_test_split\n",
    "from sklearn.preprocessing import StandardScaler\n",
    "from sklearn.ensemble import RandomForestClassifier\n",
    "from sklearn.metrics import classification_report, confusion_matrix, accuracy_score, precision_recall_curve, roc_curve, auc\n",
    "from imblearn.over_sampling import SMOTE\n",
    "import matplotlib.pyplot as plt\n",
    "\n",
    "# 加載數據\n",
    "data2 = pd.read_csv(\"file2.csv\")\n",
    "\n",
    "# 選擇特徵和目標變數\n",
    "features = ['dep_a1', 'dep_a2', 'dep_a3', 'dep_a4', 'dep_c1', 'dep_c2', \n",
    "            'dep_c3', 'dep_c4', 'AMT_Exchange_A', 'AMT_Exchange_B', \n",
    "            'CNT_Exchange_A', 'CNT_Exchange_B', 'YN_Web_Active']\n",
    "target = 'rs_prod_3'\n",
    "\n",
    "X = data[features]\n",
    "y = data[target]\n",
    "\n",
    "# 分割數據集\n",
    "X_train, X_test, y_train, y_test = train_test_split(X, y, test_size=0.3, random_state=42)\n",
    "\n",
    "# 數據標準化\n",
    "scaler = StandardScaler()\n",
    "X_train = scaler.fit_transform(X_train)\n",
    "X_test = scaler.transform(X_test)\n",
    "\n",
    "# 使用SMOTE進行上採樣\n",
    "smote = SMOTE(random_state=42)\n",
    "X_resampled, y_resampled = smote.fit_resample(X_train, y_train)\n",
    "\n",
    "# 訓練模型，調整類別權重\n",
    "model = RandomForestClassifier(class_weight={0: 1, 1: 10}, random_state=42)\n",
    "model.fit(X_resampled, y_resampled)\n",
    "\n",
    "# 預測\n",
    "y_pred_proba = model.predict_proba(X_test)[:, 1]\n",
    "\n",
    "# 設定新的決策閾值\n",
    "threshold = 0.3\n",
    "y_pred = (y_pred_proba >= threshold).astype(int)\n",
    "\n",
    "# 評估模型\n",
    "print(confusion_matrix(y_test, y_pred))\n",
    "print(classification_report(y_test, y_pred))\n",
    "print(f'Accuracy: {accuracy_score(y_test, y_pred)}')\n",
    "\n",
    "# 繪製精確率-召回率曲線\n",
    "precision, recall, thresholds = precision_recall_curve(y_test, y_pred_proba)\n",
    "plt.figure()\n",
    "plt.plot(recall, precision, label='Precision-Recall curve')\n",
    "plt.xlabel('Recall')\n",
    "plt.ylabel('Precision')\n",
    "plt.title('Precision-Recall curve')\n",
    "plt.legend(loc='best')\n",
    "plt.show()\n",
    "\n",
    "# 繪製ROC曲線\n",
    "fpr, tpr, roc_thresholds = roc_curve(y_test, y_pred_proba)\n",
    "roc_auc = auc(fpr, tpr)\n",
    "plt.figure()\n",
    "plt.plot(fpr, tpr, label='ROC curve (area = %0.2f)' % roc_auc)\n",
    "plt.xlabel('False Positive Rate')\n",
    "plt.ylabel('True Positive Rate')\n",
    "plt.title('Receiver Operating Characteristic (ROC) curve')\n",
    "plt.legend(loc='best')\n",
    "plt.show()\n"
   ]
  },
  {
   "cell_type": "code",
   "execution_count": null,
   "id": "c33ec721",
   "metadata": {
    "collapsed": true
   },
   "outputs": [],
   "source": [
    "以下為Random forest"
   ]
  },
  {
   "cell_type": "code",
   "execution_count": 5,
   "id": "84d164c8",
   "metadata": {},
   "outputs": [],
   "source": [
    "def Proportion(start_month, end_month, target=\"rs_prod_1\", proportion=10):\n",
    "    if(target==\"rs_prod_1\"):\n",
    "        print(\"目前的主題是貸款\")\n",
    "    elif(target==\"rs_prod_2\"):\n",
    "        print(\"目前的主題是換匯\")\n",
    "    else:\n",
    "        print(\"目前的主題是基金\")\n",
    "    # 資料預處理\n",
    "    train_df = data[(data[\"yyyymm\"] <= f\"2023-{end_month}\") & (data[\"yyyymm\"] >= \"2022-12\")]\n",
    "    test_df = data[data[\"yyyymm\"] == f\"2023-{end_month+1}\"]\n",
    "    train_df_0 = train_df[train_df[f\"{target}\"]==0]\n",
    "    train_df_1 = train_df[train_df[f\"{target}\"]==1]\n",
    "    sampled_df = train_df_0.sample(n=proportion*len(train_df_1), random_state=1)\n",
    "    result_df = pd.concat([sampled_df, train_df_1], ignore_index=True)\n",
    "    print(f\"目前訓練集包含{int(len(train_df)/200000)}個月的資料\")\n",
    "    print(f\"訓練集大小為: {len(result_df)}\")\n",
    "    # 設定訓練集和測試集\n",
    "    features_train = result_df.drop([f'{target}', 'yyyymm'], axis=1)\n",
    "    target_train = result_df[f'{target}']\n",
    "    features_test = test_df.drop([f'{target}', 'yyyymm'], axis=1)\n",
    "    target_test = test_df[f'{target}']\n",
    "    # 訓練模型\n",
    "    model = LogisticRegression()\n",
    "    model.fit(features_train, target_train)\n",
    "    # # 在測試集上進行預測\n",
    "    y_pred = model.predict(features_test)\n",
    "\n",
    "    # 評估模型\n",
    "    print(\"Accuracy:\", accuracy_score(target_test, y_pred))\n",
    "    print(\"Classification Report:\\n\", classification_report(target_test, y_pred))\n",
    "    print(\"CM Report:\\n\",confusion_matrix(target_test, y_pred))"
   ]
  },
  {
   "cell_type": "code",
   "execution_count": 6,
   "id": "8c4e745c",
   "metadata": {},
   "outputs": [
    {
     "name": "stdout",
     "output_type": "stream",
     "text": [
      "目前的主題是基金\n",
      "目前訓練集包含11個月的資料\n",
      "訓練集大小為: 479677\n"
     ]
    },
    {
     "name": "stderr",
     "output_type": "stream",
     "text": [
      "/opt/anaconda3/lib/python3.11/site-packages/sklearn/linear_model/_logistic.py:458: ConvergenceWarning: lbfgs failed to converge (status=1):\n",
      "STOP: TOTAL NO. of ITERATIONS REACHED LIMIT.\n",
      "\n",
      "Increase the number of iterations (max_iter) or scale the data as shown in:\n",
      "    https://scikit-learn.org/stable/modules/preprocessing.html\n",
      "Please also refer to the documentation for alternative solver options:\n",
      "    https://scikit-learn.org/stable/modules/linear_model.html#logistic-regression\n",
      "  n_iter_i = _check_optimize_result(\n"
     ]
    },
    {
     "name": "stdout",
     "output_type": "stream",
     "text": [
      "Accuracy: 0.967925\n",
      "Classification Report:\n",
      "               precision    recall  f1-score   support\n",
      "\n",
      "           0       0.98      0.99      0.98    195609\n",
      "           1       0.17      0.12      0.14      4391\n",
      "\n",
      "    accuracy                           0.97    200000\n",
      "   macro avg       0.58      0.55      0.56    200000\n",
      "weighted avg       0.96      0.97      0.97    200000\n",
      "\n",
      "CM Report:\n",
      " [[193057   2552]\n",
      " [  3863    528]]\n"
     ]
    }
   ],
   "source": [
    "Proportion(1,10,\"rs_prod_3\", 10)"
   ]
  },
  {
   "cell_type": "code",
   "execution_count": 7,
   "id": "b7df386d",
   "metadata": {},
   "outputs": [],
   "source": [
    "def Proportion0_7(start_month, end_month, target=\"rs_prod_1\", proportion=10):\n",
    "    if(target==\"rs_prod_1\"):\n",
    "        print(\"目前的主題是貸款\")\n",
    "    elif(target==\"rs_prod_2\"):\n",
    "        print(\"目前的主題是換匯\")\n",
    "    else:\n",
    "        print(\"目前的主題是基金\")\n",
    "    # 資料預處理\n",
    "    train_df = data[(data[\"yyyymm\"] <= f\"2023-{end_month}\") & (data[\"yyyymm\"] >= \"2022-12\")]\n",
    "    test_df = data[data[\"yyyymm\"] == f\"2023-{end_month+1}\"]\n",
    "    train_df_0 = train_df[train_df[f\"{target}\"]==0]\n",
    "    train_df_1 = train_df[train_df[f\"{target}\"]==1]\n",
    "    sampled_df = train_df_0.sample(n=proportion*len(train_df_1), random_state=1)\n",
    "    result_df = pd.concat([sampled_df, train_df_1], ignore_index=True)\n",
    "    print(f\"目前訓練集包含{int(len(train_df)/200000)}個月的資料\")\n",
    "    print(f\"訓練集大小為: {len(result_df)}\")\n",
    "    # 設定訓練集和測試集\n",
    "    features_train = result_df.drop([f'{target}', 'yyyymm'], axis=1)\n",
    "    target_train = result_df[f'{target}']\n",
    "    features_test = test_df.drop([f'{target}', 'yyyymm'], axis=1)\n",
    "    target_test = test_df[f'{target}']\n",
    "    # 訓練模型\n",
    "    model = LogisticRegression()\n",
    "    model.fit(features_train, target_train)\n",
    "    probabilities = model.predict_proba(features_test)\n",
    "\n",
    "    # 应用自定义阈值 0.7\n",
    "    # 默认情况下，正类（1）是第二列\n",
    "    y_pred_custom_threshold = (probabilities[:, 1] >= 0.7).astype(int)\n",
    "\n",
    "    # 評估模型\n",
    "    print(\"Accuracy:\", accuracy_score(target_test, y_pred_custom_threshold))\n",
    "    print(\"Classification Report:\\n\", classification_report(target_test, y_pred_custom_threshold))\n",
    "    print(\"CM Report:\\n\",confusion_matrix(target_test, y_pred_custom_threshold))"
   ]
  },
  {
   "cell_type": "code",
   "execution_count": 8,
   "id": "9a9fbc49",
   "metadata": {},
   "outputs": [
    {
     "name": "stdout",
     "output_type": "stream",
     "text": [
      "目前的主題是基金\n",
      "目前訓練集包含11個月的資料\n",
      "訓練集大小為: 479677\n"
     ]
    },
    {
     "name": "stderr",
     "output_type": "stream",
     "text": [
      "/opt/anaconda3/lib/python3.11/site-packages/sklearn/linear_model/_logistic.py:458: ConvergenceWarning: lbfgs failed to converge (status=1):\n",
      "STOP: TOTAL NO. of ITERATIONS REACHED LIMIT.\n",
      "\n",
      "Increase the number of iterations (max_iter) or scale the data as shown in:\n",
      "    https://scikit-learn.org/stable/modules/preprocessing.html\n",
      "Please also refer to the documentation for alternative solver options:\n",
      "    https://scikit-learn.org/stable/modules/linear_model.html#logistic-regression\n",
      "  n_iter_i = _check_optimize_result(\n"
     ]
    },
    {
     "name": "stdout",
     "output_type": "stream",
     "text": [
      "Accuracy: 0.97483\n",
      "Classification Report:\n",
      "               precision    recall  f1-score   support\n",
      "\n",
      "           0       0.98      1.00      0.99    195609\n",
      "           1       0.25      0.07      0.11      4391\n",
      "\n",
      "    accuracy                           0.97    200000\n",
      "   macro avg       0.61      0.53      0.55    200000\n",
      "weighted avg       0.96      0.97      0.97    200000\n",
      "\n",
      "CM Report:\n",
      " [[194648    961]\n",
      " [  4073    318]]\n"
     ]
    }
   ],
   "source": [
    "Proportion0_7(1,10,\"rs_prod_3\", 10)"
   ]
  },
  {
   "cell_type": "code",
   "execution_count": 29,
   "id": "ad87b6c1",
   "metadata": {},
   "outputs": [
    {
     "name": "stdout",
     "output_type": "stream",
     "text": [
      "Collecting xgboost\n",
      "  Downloading xgboost-2.0.3-py3-none-macosx_12_0_arm64.whl.metadata (2.0 kB)\n",
      "Requirement already satisfied: numpy in /opt/anaconda3/lib/python3.11/site-packages (from xgboost) (1.26.4)\n",
      "Requirement already satisfied: scipy in /opt/anaconda3/lib/python3.11/site-packages (from xgboost) (1.11.4)\n",
      "Downloading xgboost-2.0.3-py3-none-macosx_12_0_arm64.whl (1.9 MB)\n",
      "\u001b[2K   \u001b[90m━━━━━━━━━━━━━━━━━━━━━━━━━━━━━━━━━━━━━━━━\u001b[0m \u001b[32m1.9/1.9 MB\u001b[0m \u001b[31m2.7 MB/s\u001b[0m eta \u001b[36m0:00:00\u001b[0m00:01\u001b[0m00:01\u001b[0m0m\n",
      "\u001b[?25hInstalling collected packages: xgboost\n",
      "Successfully installed xgboost-2.0.3\n"
     ]
    }
   ],
   "source": [
    "!pip install xgboost\n",
    "import xgboost as xgb\n",
    "def xgbmodel(start_month, end_month, target=\"rs_prod_1\", proportion=10):\n",
    "    # 資料預處理\n",
    "    data[[\"YN_Web_Active\", \"YN_secur\", \"YN_SLR\"]] = data[[\"YN_Web_Active\", \"YN_secur\", \"YN_SLR\"]].fillna(False)\n",
    "    data[[\"YN_Web_Active\", \"YN_secur\", \"YN_SLR\"]]  = data[[\"YN_Web_Active\", \"YN_secur\", \"YN_SLR\"]].replace(\"Y\", True)\n",
    "    data[[\"intr_12\",\"intr_13\"]] = data[[\"intr_12\",\"intr_13\"]].replace(\"Y\",1).astype(int)\n",
    "    train_df = data[(data[\"yyyymm\"] <= f\"2023-{end_month}\") & (data[\"yyyymm\"] >= \"2022-12\")]\n",
    "    test_df = data[data[\"yyyymm\"] == f\"2023-{end_month+1}\"]\n",
    "    train_df_0 = train_df[train_df[f\"{target}\"]==0]\n",
    "    train_df_1 = train_df[train_df[f\"{target}\"]==1]\n",
    "    sampled_df = train_df_0.sample(n=proportion*len(train_df_1), random_state=1)\n",
    "    result_df = pd.concat([sampled_df, train_df_1], ignore_index=True)\n",
    "    #print(f\"目前訓練集包含{int(len(train_df)/200000)}個月的資料\")\n",
    "    #print(f\"訓練集大小為: {len(result_df)}\")\n",
    "    # 設定訓練集和測試集\n",
    "    features_train = result_df.drop([f'{target}', 'yyyymm'], axis=1)\n",
    "    target_train = result_df[f'{target}']\n",
    "    features_test = test_df.drop([f'{target}', 'yyyymm'], axis=1)\n",
    "    target_test = test_df[f'{target}']\n",
    "    # 訓練模型\n",
    "    model = xgb.XGBClassifier(n_estimators=100, random_state=42)\n",
    "    model.fit(features_train, target_train)\n",
    "    probabilities = model.predict(features_test)\n",
    "\n",
    "    # 評估模型\n",
    "    print(\"Accuracy:\", accuracy_score(target_test, probabilities))\n",
    "    print(\"Classification Report:\\n\", classification_report(target_test, probabilities))\n",
    "    print(\"CM Report:\\n\",confusion_matrix(target_test, probabilities))"
   ]
  },
  {
   "cell_type": "code",
   "execution_count": 35,
   "id": "2b75c089",
   "metadata": {},
   "outputs": [
    {
     "name": "stdout",
     "output_type": "stream",
     "text": [
      "Accuracy: 0.97129\n",
      "Classification Report:\n",
      "               precision    recall  f1-score   support\n",
      "\n",
      "           0       0.99      0.98      0.99    195609\n",
      "           1       0.38      0.48      0.42      4391\n",
      "\n",
      "    accuracy                           0.97    200000\n",
      "   macro avg       0.68      0.73      0.70    200000\n",
      "weighted avg       0.97      0.97      0.97    200000\n",
      "\n",
      "CM Report:\n",
      " [[192164   3445]\n",
      " [  2297   2094]]\n"
     ]
    }
   ],
   "source": [
    "xgbmodel(1,10,\"rs_prod_3\",10)"
   ]
  },
  {
   "cell_type": "code",
   "execution_count": 39,
   "id": "f3e280d3",
   "metadata": {},
   "outputs": [],
   "source": [
    "from sklearn.linear_model import Lasso\n",
    "def lassomodel0_5(start_month, end_month, target=\"rs_prod_1\", proportion=10):\n",
    "    # 資料預處理\n",
    "    data[[\"intr_12\",\"intr_13\"]] = data[[\"intr_12\",\"intr_13\"]].replace(\"Y\",1).astype(int)\n",
    "    data[['YN_Web_Active','YN_secur','YN_SLR']] = data[['YN_Web_Active','YN_secur','YN_SLR']].fillna(0)\n",
    "    data[['YN_Web_Active','YN_secur','YN_SLR']] = data[['YN_Web_Active','YN_secur','YN_SLR']].replace('Y', 1)\n",
    "    train_df = data[(data[\"yyyymm\"] <= f\"2023-{end_month}\") & (data[\"yyyymm\"] >= \"2022-12\")]\n",
    "    test_df = data[data[\"yyyymm\"] == f\"2023-{end_month+1}\"]\n",
    "    train_df_0 = train_df[train_df[f\"{target}\"]==0]\n",
    "    train_df_1 = train_df[train_df[f\"{target}\"]==1]\n",
    "    sampled_df = train_df_0.sample(n=proportion*len(train_df_1), random_state=1)\n",
    "    result_df = pd.concat([sampled_df, train_df_1], ignore_index=True)\n",
    "    #print(f\"目前訓練集包含{int(len(train_df)/200000)}個月的資料\")\n",
    "    #print(f\"訓練集大小為: {len(result_df)}\")\n",
    "    # 設定訓練集和測試集\n",
    "    features_train = result_df.drop([f'{target}', 'yyyymm'], axis=1)\n",
    "    target_train = result_df[f'{target}']\n",
    "    features_test = test_df.drop([f'{target}', 'yyyymm'], axis=1)\n",
    "    target_test = test_df[f'{target}']\n",
    "    # 訓練模型\n",
    "    model = Lasso(alpha=0.1, random_state=42)\n",
    "    model.fit(features_train,target_train)\n",
    "    y_prob = model.predict(features_test)\n",
    "    probabilities = np.where(y_prob >= 0.5, 1, 0)\n",
    "\n",
    "\n",
    "    print(\"Accuracy:\", accuracy_score(target_test, probabilities))\n",
    "    print(\"Classification Report:\\n\", classification_report(target_test, probabilities))\n",
    "    print(\"CM Report:\\n\",confusion_matrix(target_test, probabilities))"
   ]
  },
  {
   "cell_type": "code",
   "execution_count": 45,
   "id": "b8375554",
   "metadata": {},
   "outputs": [
    {
     "name": "stderr",
     "output_type": "stream",
     "text": [
      "/opt/anaconda3/lib/python3.11/site-packages/sklearn/linear_model/_coordinate_descent.py:631: ConvergenceWarning: Objective did not converge. You might want to increase the number of iterations, check the scale of the features or consider increasing regularisation. Duality gap: 1.662e+04, tolerance: 3.964e+00\n",
      "  model = cd_fast.enet_coordinate_descent(\n"
     ]
    },
    {
     "name": "stdout",
     "output_type": "stream",
     "text": [
      "Accuracy: 0.9771\n",
      "Classification Report:\n",
      "               precision    recall  f1-score   support\n",
      "\n",
      "           0       0.98      1.00      0.99    195609\n",
      "           1       0.32      0.04      0.07      4391\n",
      "\n",
      "    accuracy                           0.98    200000\n",
      "   macro avg       0.65      0.52      0.53    200000\n",
      "weighted avg       0.96      0.98      0.97    200000\n",
      "\n",
      "CM Report:\n",
      " [[195258    351]\n",
      " [  4229    162]]\n"
     ]
    }
   ],
   "source": [
    "lassomodel0_5(1,10,\"rs_prod_3\",10)"
   ]
  },
  {
   "cell_type": "code",
   "execution_count": 46,
   "id": "c9e4bba4",
   "metadata": {},
   "outputs": [],
   "source": [
    "def lassomodel1(start_month, end_month, target=\"rs_prod_1\", proportion=10):\n",
    "    # 資料預處理\n",
    "    data[[\"intr_12\",\"intr_13\"]] = data[[\"intr_12\",\"intr_13\"]].replace(\"Y\",1).astype(int)\n",
    "    data[['YN_Web_Active','YN_secur','YN_SLR']] = data[['YN_Web_Active','YN_secur','YN_SLR']].fillna(0)\n",
    "    data[['YN_Web_Active','YN_secur','YN_SLR']] = data[['YN_Web_Active','YN_secur','YN_SLR']].replace('Y', 1)\n",
    "    train_df = data[(data[\"yyyymm\"] <= f\"2023-{end_month}\") & (data[\"yyyymm\"] >= \"2022-12\")]\n",
    "    test_df = data[data[\"yyyymm\"] == f\"2023-{end_month+1}\"]\n",
    "    train_df_0 = train_df[train_df[f\"{target}\"]==0]\n",
    "    train_df_1 = train_df[train_df[f\"{target}\"]==1]\n",
    "    sampled_df = train_df_0.sample(n=proportion*len(train_df_1), random_state=1)\n",
    "    result_df = pd.concat([sampled_df, train_df_1], ignore_index=True)\n",
    "    #print(f\"目前訓練集包含{int(len(train_df)/200000)}個月的資料\")\n",
    "    #print(f\"訓練集大小為: {len(result_df)}\")\n",
    "    # 設定訓練集和測試集\n",
    "    features_train = result_df.drop([f'{target}', 'yyyymm'], axis=1)\n",
    "    target_train = result_df[f'{target}']\n",
    "    features_test = test_df.drop([f'{target}', 'yyyymm'], axis=1)\n",
    "    target_test = test_df[f'{target}']\n",
    "    # 訓練模型\n",
    "    model = Lasso(alpha=0.1, random_state=1)\n",
    "    model.fit(features_train,target_train)\n",
    "    y_prob = model.predict(features_test)\n",
    "    probabilities = np.where(y_prob >= 0.5, 1, 0)\n",
    "\n",
    "\n",
    "    print(\"Accuracy:\", accuracy_score(target_test, probabilities))\n",
    "    print(\"Classification Report:\\n\", classification_report(target_test, probabilities))\n",
    "    print(\"CM Report:\\n\",confusion_matrix(target_test, probabilities))\n",
    "    return probabilities"
   ]
  },
  {
   "cell_type": "code",
   "execution_count": 47,
   "id": "fb23858d",
   "metadata": {},
   "outputs": [
    {
     "name": "stderr",
     "output_type": "stream",
     "text": [
      "/opt/anaconda3/lib/python3.11/site-packages/sklearn/linear_model/_coordinate_descent.py:631: ConvergenceWarning: Objective did not converge. You might want to increase the number of iterations, check the scale of the features or consider increasing regularisation. Duality gap: 1.662e+04, tolerance: 3.964e+00\n",
      "  model = cd_fast.enet_coordinate_descent(\n"
     ]
    },
    {
     "name": "stdout",
     "output_type": "stream",
     "text": [
      "Accuracy: 0.9771\n",
      "Classification Report:\n",
      "               precision    recall  f1-score   support\n",
      "\n",
      "           0       0.98      1.00      0.99    195609\n",
      "           1       0.32      0.04      0.07      4391\n",
      "\n",
      "    accuracy                           0.98    200000\n",
      "   macro avg       0.65      0.52      0.53    200000\n",
      "weighted avg       0.96      0.98      0.97    200000\n",
      "\n",
      "CM Report:\n",
      " [[195258    351]\n",
      " [  4229    162]]\n"
     ]
    }
   ],
   "source": [
    "lassomodel_1 = lassomodel1(1,10,\"rs_prod_3\",10)"
   ]
  },
  {
   "cell_type": "code",
   "execution_count": 48,
   "id": "9e94c1f5",
   "metadata": {},
   "outputs": [],
   "source": [
    "def lassomodel2(start_month, end_month, target=\"rs_prod_1\", proportion=10):\n",
    "    # 資料預處理\n",
    "    data[[\"intr_12\",\"intr_13\"]] = data[[\"intr_12\",\"intr_13\"]].replace(\"Y\",1).astype(int)\n",
    "    data[['YN_Web_Active','YN_secur','YN_SLR']] = data[['YN_Web_Active','YN_secur','YN_SLR']].fillna(0)\n",
    "    data[['YN_Web_Active','YN_secur','YN_SLR']] = data[['YN_Web_Active','YN_secur','YN_SLR']].replace('Y', 1)\n",
    "    train_df = data[(data[\"yyyymm\"] <= f\"2023-{end_month}\") & (data[\"yyyymm\"] >= \"2022-12\")]\n",
    "    test_df = data[data[\"yyyymm\"] == f\"2023-{end_month+1}\"]\n",
    "    train_df_0 = train_df[train_df[f\"{target}\"]==0]\n",
    "    train_df_1 = train_df[train_df[f\"{target}\"]==1]\n",
    "    sampled_df = train_df_0.sample(n=proportion*len(train_df_1), random_state=2)\n",
    "    result_df = pd.concat([sampled_df, train_df_1], ignore_index=True)\n",
    "    #print(f\"目前訓練集包含{int(len(train_df)/200000)}個月的資料\")\n",
    "    #print(f\"訓練集大小為: {len(result_df)}\")\n",
    "    # 設定訓練集和測試集\n",
    "    features_train = result_df.drop([f'{target}', 'yyyymm'], axis=1)\n",
    "    target_train = result_df[f'{target}']\n",
    "    features_test = test_df.drop([f'{target}', 'yyyymm'], axis=1)\n",
    "    target_test = test_df[f'{target}']\n",
    "    # 訓練模型\n",
    "    model = Lasso(alpha=0.1, random_state=1)\n",
    "    model.fit(features_train,target_train)\n",
    "    y_prob = model.predict(features_test)\n",
    "    probabilities = np.where(y_prob >= 0.5, 1, 0)\n",
    "\n",
    "\n",
    "    print(\"Accuracy:\", accuracy_score(target_test, probabilities))\n",
    "    print(\"Classification Report:\\n\", classification_report(target_test, probabilities))\n",
    "    print(\"CM Report:\\n\",confusion_matrix(target_test, probabilities))\n",
    "    return probabilities"
   ]
  },
  {
   "cell_type": "code",
   "execution_count": 49,
   "id": "6cbe5d64",
   "metadata": {},
   "outputs": [
    {
     "name": "stderr",
     "output_type": "stream",
     "text": [
      "/opt/anaconda3/lib/python3.11/site-packages/sklearn/linear_model/_coordinate_descent.py:631: ConvergenceWarning: Objective did not converge. You might want to increase the number of iterations, check the scale of the features or consider increasing regularisation. Duality gap: 1.677e+04, tolerance: 3.964e+00\n",
      "  model = cd_fast.enet_coordinate_descent(\n"
     ]
    },
    {
     "name": "stdout",
     "output_type": "stream",
     "text": [
      "Accuracy: 0.977085\n",
      "Classification Report:\n",
      "               precision    recall  f1-score   support\n",
      "\n",
      "           0       0.98      1.00      0.99    195609\n",
      "           1       0.32      0.04      0.07      4391\n",
      "\n",
      "    accuracy                           0.98    200000\n",
      "   macro avg       0.65      0.52      0.53    200000\n",
      "weighted avg       0.96      0.98      0.97    200000\n",
      "\n",
      "CM Report:\n",
      " [[195247    362]\n",
      " [  4221    170]]\n"
     ]
    }
   ],
   "source": [
    "lassomodel_2 = lassomodel2(1,10,\"rs_prod_3\",10)"
   ]
  },
  {
   "cell_type": "code",
   "execution_count": 50,
   "id": "1a75d54f",
   "metadata": {},
   "outputs": [],
   "source": [
    "def lassomodel3(start_month, end_month, target=\"rs_prod_1\", proportion=10):\n",
    "    # 資料預處理\n",
    "    data[[\"intr_12\",\"intr_13\"]] = data[[\"intr_12\",\"intr_13\"]].replace(\"Y\",1).astype(int)\n",
    "    data[['YN_Web_Active','YN_secur','YN_SLR']] = data[['YN_Web_Active','YN_secur','YN_SLR']].fillna(0)\n",
    "    data[['YN_Web_Active','YN_secur','YN_SLR']] = data[['YN_Web_Active','YN_secur','YN_SLR']].replace('Y', 1)\n",
    "    train_df = data[(data[\"yyyymm\"] <= f\"2023-{end_month}\") & (data[\"yyyymm\"] >= \"2022-12\")]\n",
    "    test_df = data[data[\"yyyymm\"] == f\"2023-{end_month+1}\"]\n",
    "    train_df_0 = train_df[train_df[f\"{target}\"]==0]\n",
    "    train_df_1 = train_df[train_df[f\"{target}\"]==1]\n",
    "    sampled_df = train_df_0.sample(n=proportion*len(train_df_1), random_state=3)\n",
    "    result_df = pd.concat([sampled_df, train_df_1], ignore_index=True)\n",
    "    #print(f\"目前訓練集包含{int(len(train_df)/200000)}個月的資料\")\n",
    "    #print(f\"訓練集大小為: {len(result_df)}\")\n",
    "    # 設定訓練集和測試集\n",
    "    features_train = result_df.drop([f'{target}', 'yyyymm'], axis=1)\n",
    "    target_train = result_df[f'{target}']\n",
    "    features_test = test_df.drop([f'{target}', 'yyyymm'], axis=1)\n",
    "    target_test = test_df[f'{target}']\n",
    "    # 訓練模型\n",
    "    model = Lasso(alpha=0.1, random_state=1)\n",
    "    model.fit(features_train,target_train)\n",
    "    y_prob = model.predict(features_test)\n",
    "    probabilities = np.where(y_prob >= 0.5, 1, 0)\n",
    "\n",
    "\n",
    "    print(\"Accuracy:\", accuracy_score(target_test, probabilities))\n",
    "    print(\"Classification Report:\\n\", classification_report(target_test, probabilities))\n",
    "    print(\"CM Report:\\n\",confusion_matrix(target_test, probabilities))\n",
    "    return probabilities"
   ]
  },
  {
   "cell_type": "code",
   "execution_count": 51,
   "id": "d2e30089",
   "metadata": {},
   "outputs": [
    {
     "name": "stderr",
     "output_type": "stream",
     "text": [
      "/opt/anaconda3/lib/python3.11/site-packages/sklearn/linear_model/_coordinate_descent.py:631: ConvergenceWarning: Objective did not converge. You might want to increase the number of iterations, check the scale of the features or consider increasing regularisation. Duality gap: 1.684e+04, tolerance: 3.964e+00\n",
      "  model = cd_fast.enet_coordinate_descent(\n"
     ]
    },
    {
     "name": "stdout",
     "output_type": "stream",
     "text": [
      "Accuracy: 0.97727\n",
      "Classification Report:\n",
      "               precision    recall  f1-score   support\n",
      "\n",
      "           0       0.98      1.00      0.99    195609\n",
      "           1       0.34      0.04      0.07      4391\n",
      "\n",
      "    accuracy                           0.98    200000\n",
      "   macro avg       0.66      0.52      0.53    200000\n",
      "weighted avg       0.96      0.98      0.97    200000\n",
      "\n",
      "CM Report:\n",
      " [[195294    315]\n",
      " [  4231    160]]\n"
     ]
    }
   ],
   "source": [
    "lassomodel_3 = lassomodel3(1,10,\"rs_prod_3\",10)"
   ]
  },
  {
   "cell_type": "code",
   "execution_count": 52,
   "id": "b5d7ffbb",
   "metadata": {},
   "outputs": [],
   "source": [
    "def lassomodel4(start_month, end_month, target=\"rs_prod_1\", proportion=10):\n",
    "    # 資料預處理\n",
    "    data[[\"intr_12\",\"intr_13\"]] = data[[\"intr_12\",\"intr_13\"]].replace(\"Y\",1).astype(int)\n",
    "    data[['YN_Web_Active','YN_secur','YN_SLR']] = data[['YN_Web_Active','YN_secur','YN_SLR']].fillna(0)\n",
    "    data[['YN_Web_Active','YN_secur','YN_SLR']] = data[['YN_Web_Active','YN_secur','YN_SLR']].replace('Y', 1)\n",
    "    train_df = data[(data[\"yyyymm\"] <= f\"2023-{end_month}\") & (data[\"yyyymm\"] >= \"2022-12\")]\n",
    "    test_df = data[data[\"yyyymm\"] == f\"2023-{end_month+1}\"]\n",
    "    train_df_0 = train_df[train_df[f\"{target}\"]==0]\n",
    "    train_df_1 = train_df[train_df[f\"{target}\"]==1]\n",
    "    sampled_df = train_df_0.sample(n=proportion*len(train_df_1), random_state=4)\n",
    "    result_df = pd.concat([sampled_df, train_df_1], ignore_index=True)\n",
    "    #print(f\"目前訓練集包含{int(len(train_df)/200000)}個月的資料\")\n",
    "    #print(f\"訓練集大小為: {len(result_df)}\")\n",
    "    # 設定訓練集和測試集\n",
    "    features_train = result_df.drop([f'{target}', 'yyyymm'], axis=1)\n",
    "    target_train = result_df[f'{target}']\n",
    "    features_test = test_df.drop([f'{target}', 'yyyymm'], axis=1)\n",
    "    target_test = test_df[f'{target}']\n",
    "    # 訓練模型\n",
    "    model = Lasso(alpha=0.1, random_state=1)\n",
    "    model.fit(features_train,target_train)\n",
    "    y_prob = model.predict(features_test)\n",
    "    probabilities = np.where(y_prob >= 0.5, 1, 0)\n",
    "\n",
    "\n",
    "    print(\"Accuracy:\", accuracy_score(target_test, probabilities))\n",
    "    print(\"Classification Report:\\n\", classification_report(target_test, probabilities))\n",
    "    print(\"CM Report:\\n\",confusion_matrix(target_test, probabilities))\n",
    "    return probabilities"
   ]
  },
  {
   "cell_type": "code",
   "execution_count": 53,
   "id": "790eef11",
   "metadata": {},
   "outputs": [
    {
     "name": "stderr",
     "output_type": "stream",
     "text": [
      "/opt/anaconda3/lib/python3.11/site-packages/sklearn/linear_model/_coordinate_descent.py:631: ConvergenceWarning: Objective did not converge. You might want to increase the number of iterations, check the scale of the features or consider increasing regularisation. Duality gap: 1.641e+04, tolerance: 3.964e+00\n",
      "  model = cd_fast.enet_coordinate_descent(\n"
     ]
    },
    {
     "name": "stdout",
     "output_type": "stream",
     "text": [
      "Accuracy: 0.977095\n",
      "Classification Report:\n",
      "               precision    recall  f1-score   support\n",
      "\n",
      "           0       0.98      1.00      0.99    195609\n",
      "           1       0.33      0.04      0.07      4391\n",
      "\n",
      "    accuracy                           0.98    200000\n",
      "   macro avg       0.65      0.52      0.53    200000\n",
      "weighted avg       0.96      0.98      0.97    200000\n",
      "\n",
      "CM Report:\n",
      " [[195241    368]\n",
      " [  4213    178]]\n"
     ]
    }
   ],
   "source": [
    "lassomodel_4 = lassomodel4(1,10,\"rs_prod_3\",10)"
   ]
  },
  {
   "cell_type": "code",
   "execution_count": 54,
   "id": "d3c71bef",
   "metadata": {},
   "outputs": [],
   "source": [
    "def lassomodel5(start_month, end_month, target=\"rs_prod_1\", proportion=10):\n",
    "    # 資料預處理\n",
    "    data[[\"intr_12\",\"intr_13\"]] = data[[\"intr_12\",\"intr_13\"]].replace(\"Y\",1).astype(int)\n",
    "    data[['YN_Web_Active','YN_secur','YN_SLR']] = data[['YN_Web_Active','YN_secur','YN_SLR']].fillna(0)\n",
    "    data[['YN_Web_Active','YN_secur','YN_SLR']] = data[['YN_Web_Active','YN_secur','YN_SLR']].replace('Y', 1)\n",
    "    train_df = data[(data[\"yyyymm\"] <= f\"2023-{end_month}\") & (data[\"yyyymm\"] >= \"2022-12\")]\n",
    "    test_df = data[data[\"yyyymm\"] == f\"2023-{end_month+1}\"]\n",
    "    train_df_0 = train_df[train_df[f\"{target}\"]==0]\n",
    "    train_df_1 = train_df[train_df[f\"{target}\"]==1]\n",
    "    sampled_df = train_df_0.sample(n=proportion*len(train_df_1), random_state=5)\n",
    "    result_df = pd.concat([sampled_df, train_df_1], ignore_index=True)\n",
    "    #print(f\"目前訓練集包含{int(len(train_df)/200000)}個月的資料\")\n",
    "    #print(f\"訓練集大小為: {len(result_df)}\")\n",
    "    # 設定訓練集和測試集\n",
    "    features_train = result_df.drop([f'{target}', 'yyyymm'], axis=1)\n",
    "    target_train = result_df[f'{target}']\n",
    "    features_test = test_df.drop([f'{target}', 'yyyymm'], axis=1)\n",
    "    target_test = test_df[f'{target}']\n",
    "    # 訓練模型\n",
    "    model = Lasso(alpha=0.1, random_state=1)\n",
    "    model.fit(features_train,target_train)\n",
    "    y_prob = model.predict(features_test)\n",
    "    probabilities = np.where(y_prob >= 0.5, 1, 0)\n",
    "\n",
    "\n",
    "    print(\"Accuracy:\", accuracy_score(target_test, probabilities))\n",
    "    print(\"Classification Report:\\n\", classification_report(target_test, probabilities))\n",
    "    print(\"CM Report:\\n\",confusion_matrix(target_test, probabilities))\n",
    "    return probabilities"
   ]
  },
  {
   "cell_type": "code",
   "execution_count": 55,
   "id": "4d0a09a2",
   "metadata": {},
   "outputs": [
    {
     "name": "stderr",
     "output_type": "stream",
     "text": [
      "/opt/anaconda3/lib/python3.11/site-packages/sklearn/linear_model/_coordinate_descent.py:631: ConvergenceWarning: Objective did not converge. You might want to increase the number of iterations, check the scale of the features or consider increasing regularisation. Duality gap: 1.680e+04, tolerance: 3.964e+00\n",
      "  model = cd_fast.enet_coordinate_descent(\n"
     ]
    },
    {
     "name": "stdout",
     "output_type": "stream",
     "text": [
      "Accuracy: 0.977215\n",
      "Classification Report:\n",
      "               precision    recall  f1-score   support\n",
      "\n",
      "           0       0.98      1.00      0.99    195609\n",
      "           1       0.34      0.04      0.07      4391\n",
      "\n",
      "    accuracy                           0.98    200000\n",
      "   macro avg       0.66      0.52      0.53    200000\n",
      "weighted avg       0.96      0.98      0.97    200000\n",
      "\n",
      "CM Report:\n",
      " [[195274    335]\n",
      " [  4222    169]]\n"
     ]
    }
   ],
   "source": [
    "lassomodel_5 = lassomodel5(1,10,\"rs_prod_3\",10)"
   ]
  },
  {
   "cell_type": "code",
   "execution_count": 56,
   "id": "72da49a7",
   "metadata": {},
   "outputs": [],
   "source": [
    "def lassomodel6(start_month, end_month, target=\"rs_prod_1\", proportion=10):\n",
    "    # 資料預處理\n",
    "    data[[\"intr_12\",\"intr_13\"]] = data[[\"intr_12\",\"intr_13\"]].replace(\"Y\",1).astype(int)\n",
    "    data[['YN_Web_Active','YN_secur','YN_SLR']] = data[['YN_Web_Active','YN_secur','YN_SLR']].fillna(0)\n",
    "    data[['YN_Web_Active','YN_secur','YN_SLR']] = data[['YN_Web_Active','YN_secur','YN_SLR']].replace('Y', 1)\n",
    "    train_df = data[(data[\"yyyymm\"] <= f\"2023-{end_month}\") & (data[\"yyyymm\"] >= \"2022-12\")]\n",
    "    test_df = data[data[\"yyyymm\"] == f\"2023-{end_month+1}\"]\n",
    "    train_df_0 = train_df[train_df[f\"{target}\"]==0]\n",
    "    train_df_1 = train_df[train_df[f\"{target}\"]==1]\n",
    "    sampled_df = train_df_0.sample(n=proportion*len(train_df_1), random_state=6)\n",
    "    result_df = pd.concat([sampled_df, train_df_1], ignore_index=True)\n",
    "    #print(f\"目前訓練集包含{int(len(train_df)/200000)}個月的資料\")\n",
    "    #print(f\"訓練集大小為: {len(result_df)}\")\n",
    "    # 設定訓練集和測試集\n",
    "    features_train = result_df.drop([f'{target}', 'yyyymm'], axis=1)\n",
    "    target_train = result_df[f'{target}']\n",
    "    features_test = test_df.drop([f'{target}', 'yyyymm'], axis=1)\n",
    "    target_test = test_df[f'{target}']\n",
    "    # 訓練模型\n",
    "    model = Lasso(alpha=0.1, random_state=1)\n",
    "    model.fit(features_train,target_train)\n",
    "    y_prob = model.predict(features_test)\n",
    "    probabilities = np.where(y_prob >= 0.5, 1, 0)\n",
    "\n",
    "\n",
    "    print(\"Accuracy:\", accuracy_score(target_test, probabilities))\n",
    "    print(\"Classification Report:\\n\", classification_report(target_test, probabilities))\n",
    "    print(\"CM Report:\\n\",confusion_matrix(target_test, probabilities))\n",
    "    return probabilities"
   ]
  },
  {
   "cell_type": "code",
   "execution_count": 57,
   "id": "910ca142",
   "metadata": {},
   "outputs": [
    {
     "name": "stderr",
     "output_type": "stream",
     "text": [
      "/opt/anaconda3/lib/python3.11/site-packages/sklearn/linear_model/_coordinate_descent.py:631: ConvergenceWarning: Objective did not converge. You might want to increase the number of iterations, check the scale of the features or consider increasing regularisation. Duality gap: 1.679e+04, tolerance: 3.964e+00\n",
      "  model = cd_fast.enet_coordinate_descent(\n"
     ]
    },
    {
     "name": "stdout",
     "output_type": "stream",
     "text": [
      "Accuracy: 0.97722\n",
      "Classification Report:\n",
      "               precision    recall  f1-score   support\n",
      "\n",
      "           0       0.98      1.00      0.99    195609\n",
      "           1       0.33      0.04      0.07      4391\n",
      "\n",
      "    accuracy                           0.98    200000\n",
      "   macro avg       0.66      0.52      0.53    200000\n",
      "weighted avg       0.96      0.98      0.97    200000\n",
      "\n",
      "CM Report:\n",
      " [[195277    332]\n",
      " [  4224    167]]\n"
     ]
    }
   ],
   "source": [
    "lassomodel_6 = lassomodel6(1,10,\"rs_prod_3\",10)"
   ]
  },
  {
   "cell_type": "code",
   "execution_count": 58,
   "id": "bfd22537",
   "metadata": {},
   "outputs": [],
   "source": [
    "def lassomodel7(start_month, end_month, target=\"rs_prod_1\", proportion=10):\n",
    "    # 資料預處理\n",
    "    data[[\"intr_12\",\"intr_13\"]] = data[[\"intr_12\",\"intr_13\"]].replace(\"Y\",1).astype(int)\n",
    "    data[['YN_Web_Active','YN_secur','YN_SLR']] = data[['YN_Web_Active','YN_secur','YN_SLR']].fillna(0)\n",
    "    data[['YN_Web_Active','YN_secur','YN_SLR']] = data[['YN_Web_Active','YN_secur','YN_SLR']].replace('Y', 1)\n",
    "    train_df = data[(data[\"yyyymm\"] <= f\"2023-{end_month}\") & (data[\"yyyymm\"] >= \"2022-12\")]\n",
    "    test_df = data[data[\"yyyymm\"] == f\"2023-{end_month+1}\"]\n",
    "    train_df_0 = train_df[train_df[f\"{target}\"]==0]\n",
    "    train_df_1 = train_df[train_df[f\"{target}\"]==1]\n",
    "    sampled_df = train_df_0.sample(n=proportion*len(train_df_1), random_state=7)\n",
    "    result_df = pd.concat([sampled_df, train_df_1], ignore_index=True)\n",
    "    #print(f\"目前訓練集包含{int(len(train_df)/200000)}個月的資料\")\n",
    "    #print(f\"訓練集大小為: {len(result_df)}\")\n",
    "    # 設定訓練集和測試集\n",
    "    features_train = result_df.drop([f'{target}', 'yyyymm'], axis=1)\n",
    "    target_train = result_df[f'{target}']\n",
    "    features_test = test_df.drop([f'{target}', 'yyyymm'], axis=1)\n",
    "    target_test = test_df[f'{target}']\n",
    "    # 訓練模型\n",
    "    model = Lasso(alpha=0.1, random_state=1)\n",
    "    model.fit(features_train,target_train)\n",
    "    y_prob = model.predict(features_test)\n",
    "    probabilities = np.where(y_prob >= 0.5, 1, 0)\n",
    "\n",
    "\n",
    "    print(\"Accuracy:\", accuracy_score(target_test, probabilities))\n",
    "    print(\"Classification Report:\\n\", classification_report(target_test, probabilities))\n",
    "    print(\"CM Report:\\n\",confusion_matrix(target_test, probabilities))\n",
    "    return probabilities"
   ]
  },
  {
   "cell_type": "code",
   "execution_count": 59,
   "id": "27f572b7",
   "metadata": {},
   "outputs": [
    {
     "name": "stderr",
     "output_type": "stream",
     "text": [
      "/opt/anaconda3/lib/python3.11/site-packages/sklearn/linear_model/_coordinate_descent.py:631: ConvergenceWarning: Objective did not converge. You might want to increase the number of iterations, check the scale of the features or consider increasing regularisation. Duality gap: 1.678e+04, tolerance: 3.964e+00\n",
      "  model = cd_fast.enet_coordinate_descent(\n"
     ]
    },
    {
     "name": "stdout",
     "output_type": "stream",
     "text": [
      "Accuracy: 0.977215\n",
      "Classification Report:\n",
      "               precision    recall  f1-score   support\n",
      "\n",
      "           0       0.98      1.00      0.99    195609\n",
      "           1       0.32      0.03      0.06      4391\n",
      "\n",
      "    accuracy                           0.98    200000\n",
      "   macro avg       0.65      0.52      0.53    200000\n",
      "weighted avg       0.96      0.98      0.97    200000\n",
      "\n",
      "CM Report:\n",
      " [[195290    319]\n",
      " [  4238    153]]\n"
     ]
    }
   ],
   "source": [
    "lassomodel_7 = lassomodel7(1,10,\"rs_prod_3\",10)"
   ]
  },
  {
   "cell_type": "code",
   "execution_count": 60,
   "id": "0ddb6ebf",
   "metadata": {},
   "outputs": [],
   "source": [
    "def lassomodel8(start_month, end_month, target=\"rs_prod_1\", proportion=10):\n",
    "    # 資料預處理\n",
    "    data[[\"intr_12\",\"intr_13\"]] = data[[\"intr_12\",\"intr_13\"]].replace(\"Y\",1).astype(int)\n",
    "    data[['YN_Web_Active','YN_secur','YN_SLR']] = data[['YN_Web_Active','YN_secur','YN_SLR']].fillna(0)\n",
    "    data[['YN_Web_Active','YN_secur','YN_SLR']] = data[['YN_Web_Active','YN_secur','YN_SLR']].replace('Y', 1)\n",
    "    train_df = data[(data[\"yyyymm\"] <= f\"2023-{end_month}\") & (data[\"yyyymm\"] >= \"2022-12\")]\n",
    "    test_df = data[data[\"yyyymm\"] == f\"2023-{end_month+1}\"]\n",
    "    train_df_0 = train_df[train_df[f\"{target}\"]==0]\n",
    "    train_df_1 = train_df[train_df[f\"{target}\"]==1]\n",
    "    sampled_df = train_df_0.sample(n=proportion*len(train_df_1), random_state=8)\n",
    "    result_df = pd.concat([sampled_df, train_df_1], ignore_index=True)\n",
    "    #print(f\"目前訓練集包含{int(len(train_df)/200000)}個月的資料\")\n",
    "    #print(f\"訓練集大小為: {len(result_df)}\")\n",
    "    # 設定訓練集和測試集\n",
    "    features_train = result_df.drop([f'{target}', 'yyyymm'], axis=1)\n",
    "    target_train = result_df[f'{target}']\n",
    "    features_test = test_df.drop([f'{target}', 'yyyymm'], axis=1)\n",
    "    target_test = test_df[f'{target}']\n",
    "    # 訓練模型\n",
    "    model = Lasso(alpha=0.1, random_state=1)\n",
    "    model.fit(features_train,target_train)\n",
    "    y_prob = model.predict(features_test)\n",
    "    probabilities = np.where(y_prob >= 0.5, 1, 0)\n",
    "\n",
    "\n",
    "    print(\"Accuracy:\", accuracy_score(target_test, probabilities))\n",
    "    print(\"Classification Report:\\n\", classification_report(target_test, probabilities))\n",
    "    print(\"CM Report:\\n\",confusion_matrix(target_test, probabilities))\n",
    "    return probabilities"
   ]
  },
  {
   "cell_type": "code",
   "execution_count": 61,
   "id": "4803a824",
   "metadata": {},
   "outputs": [
    {
     "name": "stderr",
     "output_type": "stream",
     "text": [
      "/opt/anaconda3/lib/python3.11/site-packages/sklearn/linear_model/_coordinate_descent.py:631: ConvergenceWarning: Objective did not converge. You might want to increase the number of iterations, check the scale of the features or consider increasing regularisation. Duality gap: 1.663e+04, tolerance: 3.964e+00\n",
      "  model = cd_fast.enet_coordinate_descent(\n"
     ]
    },
    {
     "name": "stdout",
     "output_type": "stream",
     "text": [
      "Accuracy: 0.977195\n",
      "Classification Report:\n",
      "               precision    recall  f1-score   support\n",
      "\n",
      "           0       0.98      1.00      0.99    195609\n",
      "           1       0.33      0.04      0.07      4391\n",
      "\n",
      "    accuracy                           0.98    200000\n",
      "   macro avg       0.66      0.52      0.53    200000\n",
      "weighted avg       0.96      0.98      0.97    200000\n",
      "\n",
      "CM Report:\n",
      " [[195269    340]\n",
      " [  4221    170]]\n"
     ]
    }
   ],
   "source": [
    "lassomodel_8 = lassomodel8(1,10,\"rs_prod_3\",10)"
   ]
  },
  {
   "cell_type": "code",
   "execution_count": 62,
   "id": "6c74b34b",
   "metadata": {},
   "outputs": [],
   "source": [
    "def lassomodel9(start_month, end_month, target=\"rs_prod_1\", proportion=10):\n",
    "    # 資料預處理\n",
    "    data[[\"intr_12\",\"intr_13\"]] = data[[\"intr_12\",\"intr_13\"]].replace(\"Y\",1).astype(int)\n",
    "    data[['YN_Web_Active','YN_secur','YN_SLR']] = data[['YN_Web_Active','YN_secur','YN_SLR']].fillna(0)\n",
    "    data[['YN_Web_Active','YN_secur','YN_SLR']] = data[['YN_Web_Active','YN_secur','YN_SLR']].replace('Y', 1)\n",
    "    train_df = data[(data[\"yyyymm\"] <= f\"2023-{end_month}\") & (data[\"yyyymm\"] >= \"2022-12\")]\n",
    "    test_df = data[data[\"yyyymm\"] == f\"2023-{end_month+1}\"]\n",
    "    train_df_0 = train_df[train_df[f\"{target}\"]==0]\n",
    "    train_df_1 = train_df[train_df[f\"{target}\"]==1]\n",
    "    sampled_df = train_df_0.sample(n=proportion*len(train_df_1), random_state=9)\n",
    "    result_df = pd.concat([sampled_df, train_df_1], ignore_index=True)\n",
    "    #print(f\"目前訓練集包含{int(len(train_df)/200000)}個月的資料\")\n",
    "    #print(f\"訓練集大小為: {len(result_df)}\")\n",
    "    # 設定訓練集和測試集\n",
    "    features_train = result_df.drop([f'{target}', 'yyyymm'], axis=1)\n",
    "    target_train = result_df[f'{target}']\n",
    "    features_test = test_df.drop([f'{target}', 'yyyymm'], axis=1)\n",
    "    target_test = test_df[f'{target}']\n",
    "    # 訓練模型\n",
    "    model = Lasso(alpha=0.1, random_state=1)\n",
    "    model.fit(features_train,target_train)\n",
    "    y_prob = model.predict(features_test)\n",
    "    probabilities = np.where(y_prob >= 0.5, 1, 0)\n",
    "\n",
    "\n",
    "    print(\"Accuracy:\", accuracy_score(target_test, probabilities))\n",
    "    print(\"Classification Report:\\n\", classification_report(target_test, probabilities))\n",
    "    print(\"CM Report:\\n\",confusion_matrix(target_test, probabilities))\n",
    "    return probabilities"
   ]
  },
  {
   "cell_type": "code",
   "execution_count": 63,
   "id": "9b5e4d11",
   "metadata": {},
   "outputs": [
    {
     "name": "stderr",
     "output_type": "stream",
     "text": [
      "/opt/anaconda3/lib/python3.11/site-packages/sklearn/linear_model/_coordinate_descent.py:631: ConvergenceWarning: Objective did not converge. You might want to increase the number of iterations, check the scale of the features or consider increasing regularisation. Duality gap: 1.676e+04, tolerance: 3.964e+00\n",
      "  model = cd_fast.enet_coordinate_descent(\n"
     ]
    },
    {
     "name": "stdout",
     "output_type": "stream",
     "text": [
      "Accuracy: 0.977175\n",
      "Classification Report:\n",
      "               precision    recall  f1-score   support\n",
      "\n",
      "           0       0.98      1.00      0.99    195609\n",
      "           1       0.32      0.04      0.06      4391\n",
      "\n",
      "    accuracy                           0.98    200000\n",
      "   macro avg       0.65      0.52      0.53    200000\n",
      "weighted avg       0.96      0.98      0.97    200000\n",
      "\n",
      "CM Report:\n",
      " [[195279    330]\n",
      " [  4235    156]]\n"
     ]
    }
   ],
   "source": [
    "lassomodel_9 = lassomodel9(1,10,\"rs_prod_3\",10)"
   ]
  },
  {
   "cell_type": "code",
   "execution_count": 64,
   "id": "8137143c",
   "metadata": {},
   "outputs": [],
   "source": [
    "def lassomodel10(start_month, end_month, target=\"rs_prod_1\", proportion=10):\n",
    "    # 資料預處理\n",
    "    data[[\"intr_12\",\"intr_13\"]] = data[[\"intr_12\",\"intr_13\"]].replace(\"Y\",1).astype(int)\n",
    "    data[['YN_Web_Active','YN_secur','YN_SLR']] = data[['YN_Web_Active','YN_secur','YN_SLR']].fillna(0)\n",
    "    data[['YN_Web_Active','YN_secur','YN_SLR']] = data[['YN_Web_Active','YN_secur','YN_SLR']].replace('Y', 1)\n",
    "    train_df = data[(data[\"yyyymm\"] <= f\"2023-{end_month}\") & (data[\"yyyymm\"] >= \"2022-12\")]\n",
    "    test_df = data[data[\"yyyymm\"] == f\"2023-{end_month+1}\"]\n",
    "    train_df_0 = train_df[train_df[f\"{target}\"]==0]\n",
    "    train_df_1 = train_df[train_df[f\"{target}\"]==1]\n",
    "    sampled_df = train_df_0.sample(n=proportion*len(train_df_1), random_state=10)\n",
    "    result_df = pd.concat([sampled_df, train_df_1], ignore_index=True)\n",
    "    #print(f\"目前訓練集包含{int(len(train_df)/200000)}個月的資料\")\n",
    "    #print(f\"訓練集大小為: {len(result_df)}\")\n",
    "    # 設定訓練集和測試集\n",
    "    features_train = result_df.drop([f'{target}', 'yyyymm'], axis=1)\n",
    "    target_train = result_df[f'{target}']\n",
    "    features_test = test_df.drop([f'{target}', 'yyyymm'], axis=1)\n",
    "    target_test = test_df[f'{target}']\n",
    "    # 訓練模型\n",
    "    model = Lasso(alpha=0.1, random_state=1)\n",
    "    model.fit(features_train,target_train)\n",
    "    y_prob = model.predict(features_test)\n",
    "    probabilities = np.where(y_prob >= 0.5, 1, 0)\n",
    "\n",
    "\n",
    "    print(\"Accuracy:\", accuracy_score(target_test, probabilities))\n",
    "    print(\"Classification Report:\\n\", classification_report(target_test, probabilities))\n",
    "    print(\"CM Report:\\n\",confusion_matrix(target_test, probabilities))\n",
    "    return probabilities"
   ]
  },
  {
   "cell_type": "code",
   "execution_count": 65,
   "id": "630587df",
   "metadata": {},
   "outputs": [
    {
     "name": "stderr",
     "output_type": "stream",
     "text": [
      "/opt/anaconda3/lib/python3.11/site-packages/sklearn/linear_model/_coordinate_descent.py:631: ConvergenceWarning: Objective did not converge. You might want to increase the number of iterations, check the scale of the features or consider increasing regularisation. Duality gap: 1.678e+04, tolerance: 3.964e+00\n",
      "  model = cd_fast.enet_coordinate_descent(\n"
     ]
    },
    {
     "name": "stdout",
     "output_type": "stream",
     "text": [
      "Accuracy: 0.97721\n",
      "Classification Report:\n",
      "               precision    recall  f1-score   support\n",
      "\n",
      "           0       0.98      1.00      0.99    195609\n",
      "           1       0.33      0.04      0.07      4391\n",
      "\n",
      "    accuracy                           0.98    200000\n",
      "   macro avg       0.65      0.52      0.53    200000\n",
      "weighted avg       0.96      0.98      0.97    200000\n",
      "\n",
      "CM Report:\n",
      " [[195281    328]\n",
      " [  4230    161]]\n"
     ]
    }
   ],
   "source": [
    "lassomodel_10 = lassomodel10(1,10,\"rs_prod_3\",10)"
   ]
  },
  {
   "cell_type": "code",
   "execution_count": 66,
   "id": "6956f4ba",
   "metadata": {},
   "outputs": [],
   "source": [
    "def lassomodel11(start_month, end_month, target=\"rs_prod_1\", proportion=10):\n",
    "    # 資料預處理\n",
    "    data[[\"intr_12\",\"intr_13\"]] = data[[\"intr_12\",\"intr_13\"]].replace(\"Y\",1).astype(int)\n",
    "    data[['YN_Web_Active','YN_secur','YN_SLR']] = data[['YN_Web_Active','YN_secur','YN_SLR']].fillna(0)\n",
    "    data[['YN_Web_Active','YN_secur','YN_SLR']] = data[['YN_Web_Active','YN_secur','YN_SLR']].replace('Y', 1)\n",
    "    train_df = data[(data[\"yyyymm\"] <= f\"2023-{end_month}\") & (data[\"yyyymm\"] >= \"2022-12\")]\n",
    "    test_df = data[data[\"yyyymm\"] == f\"2023-{end_month+1}\"]\n",
    "    train_df_0 = train_df[train_df[f\"{target}\"]==0]\n",
    "    train_df_1 = train_df[train_df[f\"{target}\"]==1]\n",
    "    sampled_df = train_df_0.sample(n=proportion*len(train_df_1), random_state=11)\n",
    "    result_df = pd.concat([sampled_df, train_df_1], ignore_index=True)\n",
    "    #print(f\"目前訓練集包含{int(len(train_df)/200000)}個月的資料\")\n",
    "    #print(f\"訓練集大小為: {len(result_df)}\")\n",
    "    # 設定訓練集和測試集\n",
    "    features_train = result_df.drop([f'{target}', 'yyyymm'], axis=1)\n",
    "    target_train = result_df[f'{target}']\n",
    "    features_test = test_df.drop([f'{target}', 'yyyymm'], axis=1)\n",
    "    target_test = test_df[f'{target}']\n",
    "    # 訓練模型\n",
    "    model = Lasso(alpha=0.1, random_state=1)\n",
    "    model.fit(features_train,target_train)\n",
    "    y_prob = model.predict(features_test)\n",
    "    probabilities = np.where(y_prob >= 0.5, 1, 0)\n",
    "\n",
    "\n",
    "    print(\"Accuracy:\", accuracy_score(target_test, probabilities))\n",
    "    print(\"Classification Report:\\n\", classification_report(target_test, probabilities))\n",
    "    print(\"CM Report:\\n\",confusion_matrix(target_test, probabilities))\n",
    "    return probabilities"
   ]
  },
  {
   "cell_type": "code",
   "execution_count": 67,
   "id": "590a72e6",
   "metadata": {},
   "outputs": [
    {
     "name": "stderr",
     "output_type": "stream",
     "text": [
      "/opt/anaconda3/lib/python3.11/site-packages/sklearn/linear_model/_coordinate_descent.py:631: ConvergenceWarning: Objective did not converge. You might want to increase the number of iterations, check the scale of the features or consider increasing regularisation. Duality gap: 1.639e+04, tolerance: 3.964e+00\n",
      "  model = cd_fast.enet_coordinate_descent(\n"
     ]
    },
    {
     "name": "stdout",
     "output_type": "stream",
     "text": [
      "Accuracy: 0.97712\n",
      "Classification Report:\n",
      "               precision    recall  f1-score   support\n",
      "\n",
      "           0       0.98      1.00      0.99    195609\n",
      "           1       0.32      0.04      0.07      4391\n",
      "\n",
      "    accuracy                           0.98    200000\n",
      "   macro avg       0.65      0.52      0.53    200000\n",
      "weighted avg       0.96      0.98      0.97    200000\n",
      "\n",
      "CM Report:\n",
      " [[195264    345]\n",
      " [  4231    160]]\n"
     ]
    }
   ],
   "source": [
    "lassomodel_11 = lassomodel11(1,10,\"rs_prod_3\",10)"
   ]
  },
  {
   "cell_type": "code",
   "execution_count": 70,
   "id": "ae95a22a",
   "metadata": {},
   "outputs": [
    {
     "name": "stdout",
     "output_type": "stream",
     "text": [
      "Classification Report:\n",
      "               precision    recall  f1-score   support\n",
      "\n",
      "           0       0.98      1.00      0.99    195609\n",
      "           1       0.32      0.04      0.07      4391\n",
      "\n",
      "    accuracy                           0.98    200000\n",
      "   macro avg       0.65      0.52      0.53    200000\n",
      "weighted avg       0.96      0.98      0.97    200000\n",
      "\n",
      "CM Report:\n",
      " [[195253    356]\n",
      " [  4225    166]]\n"
     ]
    }
   ],
   "source": [
    "lassomodel_sum = lassomodel_1 + lassomodel_2 + lassomodel_3 + lassomodel_4 + lassomodel_5 + lassomodel_6 + lassomodel_7 + lassomodel_8 + lassomodel_9 + lassomodel_10 + lassomodel_11\n",
    "lassomodel_sum_5 = (lassomodel_sum >= 5).astype(int)\n",
    "\n",
    "test_df = data[data[\"yyyymm\"] == \"2023-11\"]\n",
    "target_test = test_df[\"rs_prod_3\"]\n",
    "print(\"Classification Report:\\n\", classification_report(target_test, lassomodel_sum_5))\n",
    "print(\"CM Report:\\n\",confusion_matrix(target_test, lassomodel_sum_5))"
   ]
  },
  {
   "cell_type": "code",
   "execution_count": 71,
   "id": "21ddf490",
   "metadata": {},
   "outputs": [
    {
     "name": "stdout",
     "output_type": "stream",
     "text": [
      "Classification Report:\n",
      "               precision    recall  f1-score   support\n",
      "\n",
      "           0       0.98      1.00      0.99    195609\n",
      "           1       0.32      0.04      0.07      4391\n",
      "\n",
      "    accuracy                           0.98    200000\n",
      "   macro avg       0.65      0.52      0.53    200000\n",
      "weighted avg       0.96      0.98      0.97    200000\n",
      "\n",
      "CM Report:\n",
      " [[195263    346]\n",
      " [  4225    166]]\n"
     ]
    }
   ],
   "source": [
    "lassomodel_sum_6 = (lassomodel_sum >= 6).astype(int)\n",
    "\n",
    "test_df = data[data[\"yyyymm\"] == \"2023-11\"]\n",
    "target_test = test_df[\"rs_prod_3\"]\n",
    "print(\"Classification Report:\\n\", classification_report(target_test, lassomodel_sum_6))\n",
    "print(\"CM Report:\\n\",confusion_matrix(target_test, lassomodel_sum_6))"
   ]
  },
  {
   "cell_type": "code",
   "execution_count": 72,
   "id": "61471830",
   "metadata": {},
   "outputs": [
    {
     "name": "stdout",
     "output_type": "stream",
     "text": [
      "Classification Report:\n",
      "               precision    recall  f1-score   support\n",
      "\n",
      "           0       0.98      1.00      0.99    195609\n",
      "           1       0.33      0.04      0.07      4391\n",
      "\n",
      "    accuracy                           0.98    200000\n",
      "   macro avg       0.65      0.52      0.53    200000\n",
      "weighted avg       0.96      0.98      0.97    200000\n",
      "\n",
      "CM Report:\n",
      " [[195272    337]\n",
      " [  4228    163]]\n"
     ]
    }
   ],
   "source": [
    "lassomodel_sum_7 = (lassomodel_sum >= 7).astype(int)\n",
    "\n",
    "test_df = data[data[\"yyyymm\"] == \"2023-11\"]\n",
    "target_test = test_df[\"rs_prod_3\"]\n",
    "print(\"Classification Report:\\n\", classification_report(target_test, lassomodel_sum_7))\n",
    "print(\"CM Report:\\n\",confusion_matrix(target_test, lassomodel_sum_7))"
   ]
  },
  {
   "cell_type": "code",
   "execution_count": 75,
   "id": "4e378d93",
   "metadata": {},
   "outputs": [],
   "source": [
    "def xgbmodel1(start_month, end_month, target=\"rs_prod_1\", proportion=10):\n",
    "    # 資料預處理#跑一到十次\n",
    "    data[[\"YN_Web_Active\", \"YN_secur\", \"YN_SLR\"]] = data[[\"YN_Web_Active\", \"YN_secur\", \"YN_SLR\"]].fillna(False)\n",
    "    data[[\"YN_Web_Active\", \"YN_secur\", \"YN_SLR\"]]  = data[[\"YN_Web_Active\", \"YN_secur\", \"YN_SLR\"]].replace(\"Y\", True)\n",
    "    data[[\"intr_12\",\"intr_13\"]] = data[[\"intr_12\",\"intr_13\"]].replace(\"Y\",1).astype(int)\n",
    "    train_df = data[(data[\"yyyymm\"] <= f\"2023-{end_month}\") & (data[\"yyyymm\"] >= \"2022-12\")]\n",
    "    test_df = data[data[\"yyyymm\"] == f\"2023-{end_month+1}\"]\n",
    "    train_df_0 = train_df[train_df[f\"{target}\"]==0]\n",
    "    train_df_1 = train_df[train_df[f\"{target}\"]==1]\n",
    "    sampled_df = train_df_0.sample(n=proportion*len(train_df_1), random_state=1)\n",
    "    result_df = pd.concat([sampled_df, train_df_1], ignore_index=True)\n",
    "    #print(f\"目前訓練集包含{int(len(train_df)/200000)}個月的資料\")\n",
    "    #print(f\"訓練集大小為: {len(result_df)}\")\n",
    "    # 設定訓練集和測試集\n",
    "    features_train = result_df.drop([f'{target}', 'yyyymm'], axis=1)\n",
    "    target_train = result_df[f'{target}']\n",
    "    features_test = test_df.drop([f'{target}', 'yyyymm'], axis=1)\n",
    "    target_test = test_df[f'{target}']\n",
    "    # 訓練模型\n",
    "    model = xgb.XGBClassifier(n_estimators=100, random_state=42)\n",
    "    model.fit(features_train, target_train)\n",
    "    probabilities = model.predict(features_test)\n",
    "\n",
    "    return probabilities"
   ]
  },
  {
   "cell_type": "code",
   "execution_count": 76,
   "id": "754bfc15",
   "metadata": {},
   "outputs": [],
   "source": [
    "xgboost_1 = xgbmodel1(1,10,\"rs_prod_3\",10)#跑一到十次"
   ]
  },
  {
   "cell_type": "code",
   "execution_count": 89,
   "id": "343dfcd2",
   "metadata": {},
   "outputs": [],
   "source": [
    "def Proportion1(start_month, end_month, target=\"rs_prod_1\", proportion=10):\n",
    "    if(target==\"rs_prod_1\"):\n",
    "        print(\"目前的主題是貸款\")\n",
    "    elif(target==\"rs_prod_2\"):\n",
    "        print(\"目前的主題是換匯\")\n",
    "    else:\n",
    "        print(\"目前的主題是基金\")\n",
    "    # 資料預處理\n",
    "    train_df = data[(data[\"yyyymm\"] <= f\"2023-{end_month}\") & (data[\"yyyymm\"] >= \"2022-12\")]\n",
    "    test_df = data[data[\"yyyymm\"] == f\"2023-{end_month+1}\"]\n",
    "    train_df_0 = train_df[train_df[f\"{target}\"]==0]\n",
    "    train_df_1 = train_df[train_df[f\"{target}\"]==1]\n",
    "    sampled_df = train_df_0.sample(n=proportion*len(train_df_1), random_state=1)\n",
    "    result_df = pd.concat([sampled_df, train_df_1], ignore_index=True)\n",
    "    print(f\"目前訓練集包含{int(len(train_df)/200000)}個月的資料\")\n",
    "    print(f\"訓練集大小為: {len(result_df)}\")\n",
    "    # 設定訓練集和測試集\n",
    "    features_train = result_df.drop([f'{target}', 'yyyymm'], axis=1)\n",
    "    target_train = result_df[f'{target}']\n",
    "    features_test = test_df.drop([f'{target}', 'yyyymm'], axis=1)\n",
    "    target_test = test_df[f'{target}']\n",
    "    # 訓練模型\n",
    "    model = LogisticRegression()\n",
    "    model.fit(features_train, target_train)\n",
    "    # # 在測試集上進行預測\n",
    "    y_pred = model.predict(features_test)\n",
    "\n",
    "    return y_pred"
   ]
  },
  {
   "cell_type": "code",
   "execution_count": 79,
   "id": "d4f3002b",
   "metadata": {},
   "outputs": [],
   "source": [
    "def Proportion2(start_month, end_month, target=\"rs_prod_1\", proportion=10):\n",
    "    if(target==\"rs_prod_1\"):\n",
    "        print(\"目前的主題是貸款\")\n",
    "    elif(target==\"rs_prod_2\"):\n",
    "        print(\"目前的主題是換匯\")\n",
    "    else:\n",
    "        print(\"目前的主題是基金\")\n",
    "    # 資料預處理\n",
    "    train_df = data[(data[\"yyyymm\"] <= f\"2023-{end_month}\") & (data[\"yyyymm\"] >= \"2022-12\")]\n",
    "    test_df = data[data[\"yyyymm\"] == f\"2023-{end_month+1}\"]\n",
    "    train_df_0 = train_df[train_df[f\"{target}\"]==0]\n",
    "    train_df_1 = train_df[train_df[f\"{target}\"]==1]\n",
    "    sampled_df = train_df_0.sample(n=proportion*len(train_df_1), random_state=2)\n",
    "    result_df = pd.concat([sampled_df, train_df_1], ignore_index=True)\n",
    "    print(f\"目前訓練集包含{int(len(train_df)/200000)}個月的資料\")\n",
    "    print(f\"訓練集大小為: {len(result_df)}\")\n",
    "    # 設定訓練集和測試集\n",
    "    features_train = result_df.drop([f'{target}', 'yyyymm'], axis=1)\n",
    "    target_train = result_df[f'{target}']\n",
    "    features_test = test_df.drop([f'{target}', 'yyyymm'], axis=1)\n",
    "    target_test = test_df[f'{target}']\n",
    "    # 訓練模型\n",
    "    model = LogisticRegression()\n",
    "    model.fit(features_train, target_train)\n",
    "    # # 在測試集上進行預測\n",
    "    y_pred = model.predict(features_test)\n",
    "\n",
    "    return y_pred"
   ]
  },
  {
   "cell_type": "code",
   "execution_count": 80,
   "id": "42b2deb0",
   "metadata": {},
   "outputs": [],
   "source": [
    "def Proportion3(start_month, end_month, target=\"rs_prod_1\", proportion=10):\n",
    "    if(target==\"rs_prod_1\"):\n",
    "        print(\"目前的主題是貸款\")\n",
    "    elif(target==\"rs_prod_2\"):\n",
    "        print(\"目前的主題是換匯\")\n",
    "    else:\n",
    "        print(\"目前的主題是基金\")\n",
    "    # 資料預處理\n",
    "    train_df = data[(data[\"yyyymm\"] <= f\"2023-{end_month}\") & (data[\"yyyymm\"] >= \"2022-12\")]\n",
    "    test_df = data[data[\"yyyymm\"] == f\"2023-{end_month+1}\"]\n",
    "    train_df_0 = train_df[train_df[f\"{target}\"]==0]\n",
    "    train_df_1 = train_df[train_df[f\"{target}\"]==1]\n",
    "    sampled_df = train_df_0.sample(n=proportion*len(train_df_1), random_state=3)\n",
    "    result_df = pd.concat([sampled_df, train_df_1], ignore_index=True)\n",
    "    print(f\"目前訓練集包含{int(len(train_df)/200000)}個月的資料\")\n",
    "    print(f\"訓練集大小為: {len(result_df)}\")\n",
    "    # 設定訓練集和測試集\n",
    "    features_train = result_df.drop([f'{target}', 'yyyymm'], axis=1)\n",
    "    target_train = result_df[f'{target}']\n",
    "    features_test = test_df.drop([f'{target}', 'yyyymm'], axis=1)\n",
    "    target_test = test_df[f'{target}']\n",
    "    # 訓練模型\n",
    "    model = LogisticRegression()\n",
    "    model.fit(features_train, target_train)\n",
    "    # # 在測試集上進行預測\n",
    "    y_pred = model.predict(features_test)\n",
    "\n",
    "    return y_pred"
   ]
  },
  {
   "cell_type": "code",
   "execution_count": 92,
   "id": "2718e8bf",
   "metadata": {},
   "outputs": [],
   "source": [
    "def Proportion4(start_month, end_month, target=\"rs_prod_1\", proportion=10):\n",
    "    if(target==\"rs_prod_1\"):\n",
    "        print(\"目前的主題是貸款\")\n",
    "    elif(target==\"rs_prod_2\"):\n",
    "        print(\"目前的主題是換匯\")\n",
    "    else:\n",
    "        print(\"目前的主題是基金\")\n",
    "    # 資料預處理\n",
    "    train_df = data[(data[\"yyyymm\"] <= f\"2023-{end_month}\") & (data[\"yyyymm\"] >= \"2022-12\")]\n",
    "    test_df = data[data[\"yyyymm\"] == f\"2023-{end_month+1}\"]\n",
    "    train_df_0 = train_df[train_df[f\"{target}\"]==0]\n",
    "    train_df_1 = train_df[train_df[f\"{target}\"]==1]\n",
    "    sampled_df = train_df_0.sample(n=proportion*len(train_df_1), random_state=4)\n",
    "    result_df = pd.concat([sampled_df, train_df_1], ignore_index=True)\n",
    "    print(f\"目前訓練集包含{int(len(train_df)/200000)}個月的資料\")\n",
    "    print(f\"訓練集大小為: {len(result_df)}\")\n",
    "    # 設定訓練集和測試集\n",
    "    features_train = result_df.drop([f'{target}', 'yyyymm'], axis=1)\n",
    "    target_train = result_df[f'{target}']\n",
    "    features_test = test_df.drop([f'{target}', 'yyyymm'], axis=1)\n",
    "    target_test = test_df[f'{target}']\n",
    "    # 訓練模型\n",
    "    model = LogisticRegression()\n",
    "    model.fit(features_train, target_train)\n",
    "    # # 在測試集上進行預測\n",
    "    y_pred = model.predict(features_test)\n",
    "\n",
    "    return y_pred"
   ]
  },
  {
   "cell_type": "code",
   "execution_count": 81,
   "id": "db5d6bad",
   "metadata": {},
   "outputs": [],
   "source": [
    "def Proportion5(start_month, end_month, target=\"rs_prod_1\", proportion=10):\n",
    "    if(target==\"rs_prod_1\"):\n",
    "        print(\"目前的主題是貸款\")\n",
    "    elif(target==\"rs_prod_2\"):\n",
    "        print(\"目前的主題是換匯\")\n",
    "    else:\n",
    "        print(\"目前的主題是基金\")\n",
    "    # 資料預處理\n",
    "    train_df = data[(data[\"yyyymm\"] <= f\"2023-{end_month}\") & (data[\"yyyymm\"] >= \"2022-12\")]\n",
    "    test_df = data[data[\"yyyymm\"] == f\"2023-{end_month+1}\"]\n",
    "    train_df_0 = train_df[train_df[f\"{target}\"]==0]\n",
    "    train_df_1 = train_df[train_df[f\"{target}\"]==1]\n",
    "    sampled_df = train_df_0.sample(n=proportion*len(train_df_1), random_state=5)\n",
    "    result_df = pd.concat([sampled_df, train_df_1], ignore_index=True)\n",
    "    print(f\"目前訓練集包含{int(len(train_df)/200000)}個月的資料\")\n",
    "    print(f\"訓練集大小為: {len(result_df)}\")\n",
    "    # 設定訓練集和測試集\n",
    "    features_train = result_df.drop([f'{target}', 'yyyymm'], axis=1)\n",
    "    target_train = result_df[f'{target}']\n",
    "    features_test = test_df.drop([f'{target}', 'yyyymm'], axis=1)\n",
    "    target_test = test_df[f'{target}']\n",
    "    # 訓練模型\n",
    "    model = LogisticRegression()\n",
    "    model.fit(features_train, target_train)\n",
    "    # # 在測試集上進行預測\n",
    "    y_pred = model.predict(features_test)\n",
    "\n",
    "    return y_pred"
   ]
  },
  {
   "cell_type": "code",
   "execution_count": 82,
   "id": "7a93b798",
   "metadata": {},
   "outputs": [],
   "source": [
    "def Proportion6(start_month, end_month, target=\"rs_prod_1\", proportion=10):\n",
    "    if(target==\"rs_prod_1\"):\n",
    "        print(\"目前的主題是貸款\")\n",
    "    elif(target==\"rs_prod_2\"):\n",
    "        print(\"目前的主題是換匯\")\n",
    "    else:\n",
    "        print(\"目前的主題是基金\")\n",
    "    # 資料預處理\n",
    "    train_df = data[(data[\"yyyymm\"] <= f\"2023-{end_month}\") & (data[\"yyyymm\"] >= \"2022-12\")]\n",
    "    test_df = data[data[\"yyyymm\"] == f\"2023-{end_month+1}\"]\n",
    "    train_df_0 = train_df[train_df[f\"{target}\"]==0]\n",
    "    train_df_1 = train_df[train_df[f\"{target}\"]==1]\n",
    "    sampled_df = train_df_0.sample(n=proportion*len(train_df_1), random_state=6)\n",
    "    result_df = pd.concat([sampled_df, train_df_1], ignore_index=True)\n",
    "    print(f\"目前訓練集包含{int(len(train_df)/200000)}個月的資料\")\n",
    "    print(f\"訓練集大小為: {len(result_df)}\")\n",
    "    # 設定訓練集和測試集\n",
    "    features_train = result_df.drop([f'{target}', 'yyyymm'], axis=1)\n",
    "    target_train = result_df[f'{target}']\n",
    "    features_test = test_df.drop([f'{target}', 'yyyymm'], axis=1)\n",
    "    target_test = test_df[f'{target}']\n",
    "    # 訓練模型\n",
    "    model = LogisticRegression()\n",
    "    model.fit(features_train, target_train)\n",
    "    # # 在測試集上進行預測\n",
    "    y_pred = model.predict(features_test)\n",
    "\n",
    "    return y_pred"
   ]
  },
  {
   "cell_type": "code",
   "execution_count": 83,
   "id": "a88572e0",
   "metadata": {},
   "outputs": [],
   "source": [
    "def Proportion7(start_month, end_month, target=\"rs_prod_1\", proportion=10):\n",
    "    if(target==\"rs_prod_1\"):\n",
    "        print(\"目前的主題是貸款\")\n",
    "    elif(target==\"rs_prod_2\"):\n",
    "        print(\"目前的主題是換匯\")\n",
    "    else:\n",
    "        print(\"目前的主題是基金\")\n",
    "    # 資料預處理\n",
    "    train_df = data[(data[\"yyyymm\"] <= f\"2023-{end_month}\") & (data[\"yyyymm\"] >= \"2022-12\")]\n",
    "    test_df = data[data[\"yyyymm\"] == f\"2023-{end_month+1}\"]\n",
    "    train_df_0 = train_df[train_df[f\"{target}\"]==0]\n",
    "    train_df_1 = train_df[train_df[f\"{target}\"]==1]\n",
    "    sampled_df = train_df_0.sample(n=proportion*len(train_df_1), random_state=7)\n",
    "    result_df = pd.concat([sampled_df, train_df_1], ignore_index=True)\n",
    "    print(f\"目前訓練集包含{int(len(train_df)/200000)}個月的資料\")\n",
    "    print(f\"訓練集大小為: {len(result_df)}\")\n",
    "    # 設定訓練集和測試集\n",
    "    features_train = result_df.drop([f'{target}', 'yyyymm'], axis=1)\n",
    "    target_train = result_df[f'{target}']\n",
    "    features_test = test_df.drop([f'{target}', 'yyyymm'], axis=1)\n",
    "    target_test = test_df[f'{target}']\n",
    "    # 訓練模型\n",
    "    model = LogisticRegression()\n",
    "    model.fit(features_train, target_train)\n",
    "    # # 在測試集上進行預測\n",
    "    y_pred = model.predict(features_test)\n",
    "\n",
    "    return y_pred"
   ]
  },
  {
   "cell_type": "code",
   "execution_count": 84,
   "id": "7f9677ae",
   "metadata": {},
   "outputs": [],
   "source": [
    "def Proportion8(start_month, end_month, target=\"rs_prod_1\", proportion=10):\n",
    "    if(target==\"rs_prod_1\"):\n",
    "        print(\"目前的主題是貸款\")\n",
    "    elif(target==\"rs_prod_2\"):\n",
    "        print(\"目前的主題是換匯\")\n",
    "    else:\n",
    "        print(\"目前的主題是基金\")\n",
    "    # 資料預處理\n",
    "    train_df = data[(data[\"yyyymm\"] <= f\"2023-{end_month}\") & (data[\"yyyymm\"] >= \"2022-12\")]\n",
    "    test_df = data[data[\"yyyymm\"] == f\"2023-{end_month+1}\"]\n",
    "    train_df_0 = train_df[train_df[f\"{target}\"]==0]\n",
    "    train_df_1 = train_df[train_df[f\"{target}\"]==1]\n",
    "    sampled_df = train_df_0.sample(n=proportion*len(train_df_1), random_state=8)\n",
    "    result_df = pd.concat([sampled_df, train_df_1], ignore_index=True)\n",
    "    print(f\"目前訓練集包含{int(len(train_df)/200000)}個月的資料\")\n",
    "    print(f\"訓練集大小為: {len(result_df)}\")\n",
    "    # 設定訓練集和測試集\n",
    "    features_train = result_df.drop([f'{target}', 'yyyymm'], axis=1)\n",
    "    target_train = result_df[f'{target}']\n",
    "    features_test = test_df.drop([f'{target}', 'yyyymm'], axis=1)\n",
    "    target_test = test_df[f'{target}']\n",
    "    # 訓練模型\n",
    "    model = LogisticRegression()\n",
    "    model.fit(features_train, target_train)\n",
    "    # # 在測試集上進行預測\n",
    "    y_pred = model.predict(features_test)\n",
    "\n",
    "    return y_pred"
   ]
  },
  {
   "cell_type": "code",
   "execution_count": 85,
   "id": "0f6c01ff",
   "metadata": {},
   "outputs": [],
   "source": [
    "def Proportion9(start_month, end_month, target=\"rs_prod_1\", proportion=10):\n",
    "    if(target==\"rs_prod_1\"):\n",
    "        print(\"目前的主題是貸款\")\n",
    "    elif(target==\"rs_prod_2\"):\n",
    "        print(\"目前的主題是換匯\")\n",
    "    else:\n",
    "        print(\"目前的主題是基金\")\n",
    "    # 資料預處理\n",
    "    train_df = data[(data[\"yyyymm\"] <= f\"2023-{end_month}\") & (data[\"yyyymm\"] >= \"2022-12\")]\n",
    "    test_df = data[data[\"yyyymm\"] == f\"2023-{end_month+1}\"]\n",
    "    train_df_0 = train_df[train_df[f\"{target}\"]==0]\n",
    "    train_df_1 = train_df[train_df[f\"{target}\"]==1]\n",
    "    sampled_df = train_df_0.sample(n=proportion*len(train_df_1), random_state=9)\n",
    "    result_df = pd.concat([sampled_df, train_df_1], ignore_index=True)\n",
    "    print(f\"目前訓練集包含{int(len(train_df)/200000)}個月的資料\")\n",
    "    print(f\"訓練集大小為: {len(result_df)}\")\n",
    "    # 設定訓練集和測試集\n",
    "    features_train = result_df.drop([f'{target}', 'yyyymm'], axis=1)\n",
    "    target_train = result_df[f'{target}']\n",
    "    features_test = test_df.drop([f'{target}', 'yyyymm'], axis=1)\n",
    "    target_test = test_df[f'{target}']\n",
    "    # 訓練模型\n",
    "    model = LogisticRegression()\n",
    "    model.fit(features_train, target_train)\n",
    "    # # 在測試集上進行預測\n",
    "    y_pred = model.predict(features_test)\n",
    "\n",
    "    return y_pred"
   ]
  },
  {
   "cell_type": "code",
   "execution_count": 86,
   "id": "3012da11",
   "metadata": {},
   "outputs": [],
   "source": [
    "def Proportion10(start_month, end_month, target=\"rs_prod_1\", proportion=10):\n",
    "    if(target==\"rs_prod_1\"):\n",
    "        print(\"目前的主題是貸款\")\n",
    "    elif(target==\"rs_prod_2\"):\n",
    "        print(\"目前的主題是換匯\")\n",
    "    else:\n",
    "        print(\"目前的主題是基金\")\n",
    "    # 資料預處理\n",
    "    train_df = data[(data[\"yyyymm\"] <= f\"2023-{end_month}\") & (data[\"yyyymm\"] >= \"2022-12\")]\n",
    "    test_df = data[data[\"yyyymm\"] == f\"2023-{end_month+1}\"]\n",
    "    train_df_0 = train_df[train_df[f\"{target}\"]==0]\n",
    "    train_df_1 = train_df[train_df[f\"{target}\"]==1]\n",
    "    sampled_df = train_df_0.sample(n=proportion*len(train_df_1), random_state=10)\n",
    "    result_df = pd.concat([sampled_df, train_df_1], ignore_index=True)\n",
    "    print(f\"目前訓練集包含{int(len(train_df)/200000)}個月的資料\")\n",
    "    print(f\"訓練集大小為: {len(result_df)}\")\n",
    "    # 設定訓練集和測試集\n",
    "    features_train = result_df.drop([f'{target}', 'yyyymm'], axis=1)\n",
    "    target_train = result_df[f'{target}']\n",
    "    features_test = test_df.drop([f'{target}', 'yyyymm'], axis=1)\n",
    "    target_test = test_df[f'{target}']\n",
    "    # 訓練模型\n",
    "    model = LogisticRegression()\n",
    "    model.fit(features_train, target_train)\n",
    "    # # 在測試集上進行預測\n",
    "    y_pred = model.predict(features_test)\n",
    "\n",
    "    return y_pred"
   ]
  },
  {
   "cell_type": "code",
   "execution_count": 87,
   "id": "6434f788",
   "metadata": {},
   "outputs": [],
   "source": [
    "def Proportion11(start_month, end_month, target=\"rs_prod_1\", proportion=10):\n",
    "    if(target==\"rs_prod_1\"):\n",
    "        print(\"目前的主題是貸款\")\n",
    "    elif(target==\"rs_prod_2\"):\n",
    "        print(\"目前的主題是換匯\")\n",
    "    else:\n",
    "        print(\"目前的主題是基金\")\n",
    "    # 資料預處理\n",
    "    train_df = data[(data[\"yyyymm\"] <= f\"2023-{end_month}\") & (data[\"yyyymm\"] >= \"2022-12\")]\n",
    "    test_df = data[data[\"yyyymm\"] == f\"2023-{end_month+1}\"]\n",
    "    train_df_0 = train_df[train_df[f\"{target}\"]==0]\n",
    "    train_df_1 = train_df[train_df[f\"{target}\"]==1]\n",
    "    sampled_df = train_df_0.sample(n=proportion*len(train_df_1), random_state=11)\n",
    "    result_df = pd.concat([sampled_df, train_df_1], ignore_index=True)\n",
    "    print(f\"目前訓練集包含{int(len(train_df)/200000)}個月的資料\")\n",
    "    print(f\"訓練集大小為: {len(result_df)}\")\n",
    "    # 設定訓練集和測試集\n",
    "    features_train = result_df.drop([f'{target}', 'yyyymm'], axis=1)\n",
    "    target_train = result_df[f'{target}']\n",
    "    features_test = test_df.drop([f'{target}', 'yyyymm'], axis=1)\n",
    "    target_test = test_df[f'{target}']\n",
    "    # 訓練模型\n",
    "    model = LogisticRegression()\n",
    "    model.fit(features_train, target_train)\n",
    "    # # 在測試集上進行預測\n",
    "    y_pred = model.predict(features_test)\n",
    "\n",
    "    return y_pred"
   ]
  },
  {
   "cell_type": "code",
   "execution_count": 93,
   "id": "20ed70ae",
   "metadata": {},
   "outputs": [
    {
     "name": "stdout",
     "output_type": "stream",
     "text": [
      "目前的主題是基金\n",
      "目前訓練集包含11個月的資料\n",
      "訓練集大小為: 479677\n"
     ]
    },
    {
     "name": "stderr",
     "output_type": "stream",
     "text": [
      "/opt/anaconda3/lib/python3.11/site-packages/sklearn/linear_model/_logistic.py:458: ConvergenceWarning: lbfgs failed to converge (status=1):\n",
      "STOP: TOTAL NO. of ITERATIONS REACHED LIMIT.\n",
      "\n",
      "Increase the number of iterations (max_iter) or scale the data as shown in:\n",
      "    https://scikit-learn.org/stable/modules/preprocessing.html\n",
      "Please also refer to the documentation for alternative solver options:\n",
      "    https://scikit-learn.org/stable/modules/linear_model.html#logistic-regression\n",
      "  n_iter_i = _check_optimize_result(\n"
     ]
    },
    {
     "name": "stdout",
     "output_type": "stream",
     "text": [
      "目前的主題是基金\n",
      "目前訓練集包含11個月的資料\n",
      "訓練集大小為: 479677\n"
     ]
    },
    {
     "name": "stderr",
     "output_type": "stream",
     "text": [
      "/opt/anaconda3/lib/python3.11/site-packages/sklearn/linear_model/_logistic.py:458: ConvergenceWarning: lbfgs failed to converge (status=1):\n",
      "STOP: TOTAL NO. of ITERATIONS REACHED LIMIT.\n",
      "\n",
      "Increase the number of iterations (max_iter) or scale the data as shown in:\n",
      "    https://scikit-learn.org/stable/modules/preprocessing.html\n",
      "Please also refer to the documentation for alternative solver options:\n",
      "    https://scikit-learn.org/stable/modules/linear_model.html#logistic-regression\n",
      "  n_iter_i = _check_optimize_result(\n"
     ]
    },
    {
     "name": "stdout",
     "output_type": "stream",
     "text": [
      "目前的主題是基金\n",
      "目前訓練集包含11個月的資料\n",
      "訓練集大小為: 479677\n"
     ]
    },
    {
     "name": "stderr",
     "output_type": "stream",
     "text": [
      "/opt/anaconda3/lib/python3.11/site-packages/sklearn/linear_model/_logistic.py:458: ConvergenceWarning: lbfgs failed to converge (status=1):\n",
      "STOP: TOTAL NO. of ITERATIONS REACHED LIMIT.\n",
      "\n",
      "Increase the number of iterations (max_iter) or scale the data as shown in:\n",
      "    https://scikit-learn.org/stable/modules/preprocessing.html\n",
      "Please also refer to the documentation for alternative solver options:\n",
      "    https://scikit-learn.org/stable/modules/linear_model.html#logistic-regression\n",
      "  n_iter_i = _check_optimize_result(\n"
     ]
    },
    {
     "name": "stdout",
     "output_type": "stream",
     "text": [
      "目前的主題是基金\n",
      "目前訓練集包含11個月的資料\n",
      "訓練集大小為: 479677\n"
     ]
    },
    {
     "name": "stderr",
     "output_type": "stream",
     "text": [
      "/opt/anaconda3/lib/python3.11/site-packages/sklearn/linear_model/_logistic.py:458: ConvergenceWarning: lbfgs failed to converge (status=1):\n",
      "STOP: TOTAL NO. of ITERATIONS REACHED LIMIT.\n",
      "\n",
      "Increase the number of iterations (max_iter) or scale the data as shown in:\n",
      "    https://scikit-learn.org/stable/modules/preprocessing.html\n",
      "Please also refer to the documentation for alternative solver options:\n",
      "    https://scikit-learn.org/stable/modules/linear_model.html#logistic-regression\n",
      "  n_iter_i = _check_optimize_result(\n"
     ]
    },
    {
     "name": "stdout",
     "output_type": "stream",
     "text": [
      "目前的主題是基金\n",
      "目前訓練集包含11個月的資料\n",
      "訓練集大小為: 479677\n"
     ]
    },
    {
     "name": "stderr",
     "output_type": "stream",
     "text": [
      "/opt/anaconda3/lib/python3.11/site-packages/sklearn/linear_model/_logistic.py:458: ConvergenceWarning: lbfgs failed to converge (status=1):\n",
      "STOP: TOTAL NO. of ITERATIONS REACHED LIMIT.\n",
      "\n",
      "Increase the number of iterations (max_iter) or scale the data as shown in:\n",
      "    https://scikit-learn.org/stable/modules/preprocessing.html\n",
      "Please also refer to the documentation for alternative solver options:\n",
      "    https://scikit-learn.org/stable/modules/linear_model.html#logistic-regression\n",
      "  n_iter_i = _check_optimize_result(\n"
     ]
    },
    {
     "name": "stdout",
     "output_type": "stream",
     "text": [
      "目前的主題是基金\n",
      "目前訓練集包含11個月的資料\n",
      "訓練集大小為: 479677\n"
     ]
    },
    {
     "name": "stderr",
     "output_type": "stream",
     "text": [
      "/opt/anaconda3/lib/python3.11/site-packages/sklearn/linear_model/_logistic.py:458: ConvergenceWarning: lbfgs failed to converge (status=1):\n",
      "STOP: TOTAL NO. of ITERATIONS REACHED LIMIT.\n",
      "\n",
      "Increase the number of iterations (max_iter) or scale the data as shown in:\n",
      "    https://scikit-learn.org/stable/modules/preprocessing.html\n",
      "Please also refer to the documentation for alternative solver options:\n",
      "    https://scikit-learn.org/stable/modules/linear_model.html#logistic-regression\n",
      "  n_iter_i = _check_optimize_result(\n"
     ]
    },
    {
     "name": "stdout",
     "output_type": "stream",
     "text": [
      "目前的主題是基金\n",
      "目前訓練集包含11個月的資料\n",
      "訓練集大小為: 479677\n"
     ]
    },
    {
     "name": "stderr",
     "output_type": "stream",
     "text": [
      "/opt/anaconda3/lib/python3.11/site-packages/sklearn/linear_model/_logistic.py:458: ConvergenceWarning: lbfgs failed to converge (status=1):\n",
      "STOP: TOTAL NO. of ITERATIONS REACHED LIMIT.\n",
      "\n",
      "Increase the number of iterations (max_iter) or scale the data as shown in:\n",
      "    https://scikit-learn.org/stable/modules/preprocessing.html\n",
      "Please also refer to the documentation for alternative solver options:\n",
      "    https://scikit-learn.org/stable/modules/linear_model.html#logistic-regression\n",
      "  n_iter_i = _check_optimize_result(\n"
     ]
    },
    {
     "name": "stdout",
     "output_type": "stream",
     "text": [
      "目前的主題是基金\n",
      "目前訓練集包含11個月的資料\n",
      "訓練集大小為: 479677\n"
     ]
    },
    {
     "name": "stderr",
     "output_type": "stream",
     "text": [
      "/opt/anaconda3/lib/python3.11/site-packages/sklearn/linear_model/_logistic.py:458: ConvergenceWarning: lbfgs failed to converge (status=1):\n",
      "STOP: TOTAL NO. of ITERATIONS REACHED LIMIT.\n",
      "\n",
      "Increase the number of iterations (max_iter) or scale the data as shown in:\n",
      "    https://scikit-learn.org/stable/modules/preprocessing.html\n",
      "Please also refer to the documentation for alternative solver options:\n",
      "    https://scikit-learn.org/stable/modules/linear_model.html#logistic-regression\n",
      "  n_iter_i = _check_optimize_result(\n"
     ]
    },
    {
     "name": "stdout",
     "output_type": "stream",
     "text": [
      "目前的主題是基金\n",
      "目前訓練集包含11個月的資料\n",
      "訓練集大小為: 479677\n"
     ]
    },
    {
     "name": "stderr",
     "output_type": "stream",
     "text": [
      "/opt/anaconda3/lib/python3.11/site-packages/sklearn/linear_model/_logistic.py:458: ConvergenceWarning: lbfgs failed to converge (status=1):\n",
      "STOP: TOTAL NO. of ITERATIONS REACHED LIMIT.\n",
      "\n",
      "Increase the number of iterations (max_iter) or scale the data as shown in:\n",
      "    https://scikit-learn.org/stable/modules/preprocessing.html\n",
      "Please also refer to the documentation for alternative solver options:\n",
      "    https://scikit-learn.org/stable/modules/linear_model.html#logistic-regression\n",
      "  n_iter_i = _check_optimize_result(\n"
     ]
    },
    {
     "name": "stdout",
     "output_type": "stream",
     "text": [
      "目前的主題是基金\n",
      "目前訓練集包含11個月的資料\n",
      "訓練集大小為: 479677\n"
     ]
    },
    {
     "name": "stderr",
     "output_type": "stream",
     "text": [
      "/opt/anaconda3/lib/python3.11/site-packages/sklearn/linear_model/_logistic.py:458: ConvergenceWarning: lbfgs failed to converge (status=1):\n",
      "STOP: TOTAL NO. of ITERATIONS REACHED LIMIT.\n",
      "\n",
      "Increase the number of iterations (max_iter) or scale the data as shown in:\n",
      "    https://scikit-learn.org/stable/modules/preprocessing.html\n",
      "Please also refer to the documentation for alternative solver options:\n",
      "    https://scikit-learn.org/stable/modules/linear_model.html#logistic-regression\n",
      "  n_iter_i = _check_optimize_result(\n"
     ]
    },
    {
     "name": "stdout",
     "output_type": "stream",
     "text": [
      "目前的主題是基金\n",
      "目前訓練集包含11個月的資料\n",
      "訓練集大小為: 479677\n"
     ]
    },
    {
     "name": "stderr",
     "output_type": "stream",
     "text": [
      "/opt/anaconda3/lib/python3.11/site-packages/sklearn/linear_model/_logistic.py:458: ConvergenceWarning: lbfgs failed to converge (status=1):\n",
      "STOP: TOTAL NO. of ITERATIONS REACHED LIMIT.\n",
      "\n",
      "Increase the number of iterations (max_iter) or scale the data as shown in:\n",
      "    https://scikit-learn.org/stable/modules/preprocessing.html\n",
      "Please also refer to the documentation for alternative solver options:\n",
      "    https://scikit-learn.org/stable/modules/linear_model.html#logistic-regression\n",
      "  n_iter_i = _check_optimize_result(\n"
     ]
    }
   ],
   "source": [
    "Proportion_1 = Proportion1(1,10,\"rs_prod_3\",10)\n",
    "Proportion_2 = Proportion2(1,10,\"rs_prod_3\",10)\n",
    "Proportion_3 = Proportion3(1,10,\"rs_prod_3\",10)\n",
    "Proportion_4 = Proportion4(1,10,\"rs_prod_3\",10)\n",
    "Proportion_5 = Proportion5(1,10,\"rs_prod_3\",10)\n",
    "Proportion_6 = Proportion6(1,10,\"rs_prod_3\",10)\n",
    "Proportion_7 = Proportion7(1,10,\"rs_prod_3\",10)\n",
    "Proportion_8 = Proportion8(1,10,\"rs_prod_3\",10)\n",
    "Proportion_9 = Proportion9(1,10,\"rs_prod_3\",10)\n",
    "Proportion_10 = Proportion10(1,10,\"rs_prod_3\",10)\n",
    "Proportion_11 = Proportion11(1,10,\"rs_prod_3\",10)\n"
   ]
  },
  {
   "cell_type": "code",
   "execution_count": 94,
   "id": "2add6d73",
   "metadata": {},
   "outputs": [
    {
     "name": "stdout",
     "output_type": "stream",
     "text": [
      "Classification Report:\n",
      "               precision    recall  f1-score   support\n",
      "\n",
      "           0       0.98      0.99      0.98    195609\n",
      "           1       0.17      0.12      0.14      4391\n",
      "\n",
      "    accuracy                           0.97    200000\n",
      "   macro avg       0.57      0.55      0.56    200000\n",
      "weighted avg       0.96      0.97      0.97    200000\n",
      "\n",
      "CM Report:\n",
      " [[193007   2602]\n",
      " [  3864    527]]\n"
     ]
    }
   ],
   "source": [
    "# 計算 Proportion 的總和\n",
    "Proportion_sum = Proportion_1 + Proportion_2 + Proportion_3 + Proportion_4 + Proportion_5 + Proportion_6 + Proportion_7 + Proportion_8 + Proportion_9 + Proportion_10 + Proportion_11\n",
    "\n",
    "# 將 Proportion 的總和轉換為二元分類結果\n",
    "Proportion_sum_5 = (Proportion_sum >= 5).astype(int)\n",
    "\n",
    "# 選擇測試集\n",
    "test_df = data[data[\"yyyymm\"] == \"2023-11\"]\n",
    "\n",
    "# 提取目標測試值\n",
    "target_test = test_df[\"rs_prod_3\"]\n",
    "\n",
    "# 打印分類報告和混淆矩陣\n",
    "print(\"Classification Report:\\n\", classification_report(target_test, Proportion_sum_5))\n",
    "print(\"CM Report:\\n\", confusion_matrix(target_test, Proportion_sum_5))\n"
   ]
  },
  {
   "cell_type": "code",
   "execution_count": 97,
   "id": "af5b3ef4",
   "metadata": {},
   "outputs": [
    {
     "name": "stdout",
     "output_type": "stream",
     "text": [
      "Classification Report:\n",
      "               precision    recall  f1-score   support\n",
      "\n",
      "           0       0.98      0.99      0.98    195609\n",
      "           1       0.17      0.12      0.14      4391\n",
      "\n",
      "    accuracy                           0.97    200000\n",
      "   macro avg       0.58      0.55      0.56    200000\n",
      "weighted avg       0.96      0.97      0.97    200000\n",
      "\n",
      "CM Report:\n",
      " [[193065   2544]\n",
      " [  3868    523]]\n"
     ]
    }
   ],
   "source": [
    "Proportion_sum_6 = (Proportion_sum >= 6).astype(int)\n",
    "\n",
    "test_df = data[data[\"yyyymm\"] == \"2023-11\"]\n",
    "target_test = test_df[\"rs_prod_3\"]\n",
    "print(\"Classification Report:\\n\", classification_report(target_test, Proportion_sum_6))\n",
    "print(\"CM Report:\\n\",confusion_matrix(target_test, Proportion_sum_6))"
   ]
  },
  {
   "cell_type": "code",
   "execution_count": 98,
   "id": "c0e30444",
   "metadata": {
    "scrolled": true
   },
   "outputs": [
    {
     "name": "stdout",
     "output_type": "stream",
     "text": [
      "Classification Report:\n",
      "               precision    recall  f1-score   support\n",
      "\n",
      "           0       0.98      0.99      0.98    195609\n",
      "           1       0.17      0.12      0.14      4391\n",
      "\n",
      "    accuracy                           0.97    200000\n",
      "   macro avg       0.58      0.55      0.56    200000\n",
      "weighted avg       0.96      0.97      0.97    200000\n",
      "\n",
      "CM Report:\n",
      " [[193114   2495]\n",
      " [  3872    519]]\n"
     ]
    }
   ],
   "source": [
    "Proportion_sum_7 = (Proportion_sum >= 7).astype(int)\n",
    "\n",
    "test_df = data[data[\"yyyymm\"] == \"2023-11\"]\n",
    "target_test = test_df[\"rs_prod_3\"]\n",
    "print(\"Classification Report:\\n\", classification_report(target_test, Proportion_sum_7))\n",
    "print(\"CM Report:\\n\",confusion_matrix(target_test, Proportion_sum_7))"
   ]
  },
  {
   "cell_type": "code",
   "execution_count": null,
   "id": "8ffd3552",
   "metadata": {},
   "outputs": [],
   "source": [
    "from sklearn.preprocessing import StandardScaler\n",
    "from sklearn.svm import SVC"
   ]
  },
  {
   "cell_type": "code",
   "execution_count": null,
   "id": "929d817f",
   "metadata": {},
   "outputs": [],
   "source": [
    "def svmmodel(start_month, end_month, target=\"rs_prod_1\", proportion=10):\n",
    "    # 資料預處理\n",
    "    data[[\"YN_Web_Active\", \"YN_secur\", \"YN_SLR\"]] = data[[\"YN_Web_Active\", \"YN_secur\", \"YN_SLR\"]].fillna(False)\n",
    "    data[[\"YN_Web_Active\", \"YN_secur\", \"YN_SLR\"]]  = data[[\"YN_Web_Active\", \"YN_secur\", \"YN_SLR\"]].replace(\"Y\", True)\n",
    "    data[[\"intr_12\",\"intr_13\"]] = data[[\"intr_12\",\"intr_13\"]].replace(\"Y\",1).astype(int)\n",
    "    train_df = data[(data[\"yyyymm\"] <= f\"2023-{end_month}\") & (data[\"yyyymm\"] >= \"2022-12\")]\n",
    "    test_df = data[data[\"yyyymm\"] == f\"2023-{end_month+1}\"]\n",
    "    train_df_0 = train_df[train_df[f\"{target}\"]==0]\n",
    "    train_df_1 = train_df[train_df[f\"{target}\"]==1]\n",
    "    sampled_df = train_df_0.sample(n=proportion*len(train_df_1), random_state=11)\n",
    "    result_df = pd.concat([sampled_df, train_df_1], ignore_index=True)\n",
    "    #print(f\"目前訓練集包含{int(len(train_df)/200000)}個月的資料\")\n",
    "    #print(f\"訓練集大小為: {len(result_df)}\")\n",
    "    # 設定訓練集和測試集\n",
    "    features_train = result_df.drop([f'{target}', 'yyyymm'], axis=1)\n",
    "    target_train = result_df[f'{target}']\n",
    "    features_test = test_df.drop([f'{target}', 'yyyymm'], axis=1)\n",
    "    target_test = test_df[f'{target}']\n",
    "    # 訓練模型\n",
    "    scaler = StandardScaler()\n",
    "    features_train = scaler.fit_transform(features_train)\n",
    "    model = SVC(kernel='rbf')\n",
    "    model.fit(features_train, target_train)\n",
    "    probabilities = model.predict(features_test)\n",
    "\n",
    "    print(\"Accuracy:\", accuracy_score(target_test, probabilities))\n",
    "    print(\"Classification Report:\\n\", classification_report(target_test, probabilities))\n",
    "    print(\"CM Report:\\n\",confusion_matrix(target_test, probabilities))"
   ]
  },
  {
   "cell_type": "code",
   "execution_count": 104,
   "id": "79a243f4",
   "metadata": {},
   "outputs": [
    {
     "name": "stderr",
     "output_type": "stream",
     "text": [
      "/opt/anaconda3/lib/python3.11/site-packages/sklearn/base.py:432: UserWarning: X has feature names, but SVC was fitted without feature names\n",
      "  warnings.warn(\n"
     ]
    },
    {
     "ename": "KeyboardInterrupt",
     "evalue": "",
     "output_type": "error",
     "traceback": [
      "\u001b[0;31m---------------------------------------------------------------------------\u001b[0m",
      "\u001b[0;31mKeyboardInterrupt\u001b[0m                         Traceback (most recent call last)",
      "Cell \u001b[0;32mIn[104], line 1\u001b[0m\n\u001b[0;32m----> 1\u001b[0m svmmodel(\u001b[38;5;241m1\u001b[39m,\u001b[38;5;241m5\u001b[39m,\u001b[38;5;124m\"\u001b[39m\u001b[38;5;124mrs_prod_3\u001b[39m\u001b[38;5;124m\"\u001b[39m, \u001b[38;5;241m10\u001b[39m)\n",
      "Cell \u001b[0;32mIn[100], line 24\u001b[0m, in \u001b[0;36msvmmodel\u001b[0;34m(start_month, end_month, target, proportion)\u001b[0m\n\u001b[1;32m     22\u001b[0m model \u001b[38;5;241m=\u001b[39m SVC(kernel\u001b[38;5;241m=\u001b[39m\u001b[38;5;124m'\u001b[39m\u001b[38;5;124mrbf\u001b[39m\u001b[38;5;124m'\u001b[39m)\n\u001b[1;32m     23\u001b[0m model\u001b[38;5;241m.\u001b[39mfit(features_train, target_train)\n\u001b[0;32m---> 24\u001b[0m probabilities \u001b[38;5;241m=\u001b[39m model\u001b[38;5;241m.\u001b[39mpredict(features_test)\n\u001b[1;32m     26\u001b[0m \u001b[38;5;28mprint\u001b[39m(\u001b[38;5;124m\"\u001b[39m\u001b[38;5;124mAccuracy:\u001b[39m\u001b[38;5;124m\"\u001b[39m, accuracy_score(target_test, probabilities))\n\u001b[1;32m     27\u001b[0m \u001b[38;5;28mprint\u001b[39m(\u001b[38;5;124m\"\u001b[39m\u001b[38;5;124mClassification Report:\u001b[39m\u001b[38;5;130;01m\\n\u001b[39;00m\u001b[38;5;124m\"\u001b[39m, classification_report(target_test, probabilities))\n",
      "File \u001b[0;32m/opt/anaconda3/lib/python3.11/site-packages/sklearn/svm/_base.py:820\u001b[0m, in \u001b[0;36mBaseSVC.predict\u001b[0;34m(self, X)\u001b[0m\n\u001b[1;32m    818\u001b[0m     y \u001b[38;5;241m=\u001b[39m np\u001b[38;5;241m.\u001b[39margmax(\u001b[38;5;28mself\u001b[39m\u001b[38;5;241m.\u001b[39mdecision_function(X), axis\u001b[38;5;241m=\u001b[39m\u001b[38;5;241m1\u001b[39m)\n\u001b[1;32m    819\u001b[0m \u001b[38;5;28;01melse\u001b[39;00m:\n\u001b[0;32m--> 820\u001b[0m     y \u001b[38;5;241m=\u001b[39m \u001b[38;5;28msuper\u001b[39m()\u001b[38;5;241m.\u001b[39mpredict(X)\n\u001b[1;32m    821\u001b[0m \u001b[38;5;28;01mreturn\u001b[39;00m \u001b[38;5;28mself\u001b[39m\u001b[38;5;241m.\u001b[39mclasses_\u001b[38;5;241m.\u001b[39mtake(np\u001b[38;5;241m.\u001b[39masarray(y, dtype\u001b[38;5;241m=\u001b[39mnp\u001b[38;5;241m.\u001b[39mintp))\n",
      "File \u001b[0;32m/opt/anaconda3/lib/python3.11/site-packages/sklearn/svm/_base.py:435\u001b[0m, in \u001b[0;36mBaseLibSVM.predict\u001b[0;34m(self, X)\u001b[0m\n\u001b[1;32m    433\u001b[0m X \u001b[38;5;241m=\u001b[39m \u001b[38;5;28mself\u001b[39m\u001b[38;5;241m.\u001b[39m_validate_for_predict(X)\n\u001b[1;32m    434\u001b[0m predict \u001b[38;5;241m=\u001b[39m \u001b[38;5;28mself\u001b[39m\u001b[38;5;241m.\u001b[39m_sparse_predict \u001b[38;5;28;01mif\u001b[39;00m \u001b[38;5;28mself\u001b[39m\u001b[38;5;241m.\u001b[39m_sparse \u001b[38;5;28;01melse\u001b[39;00m \u001b[38;5;28mself\u001b[39m\u001b[38;5;241m.\u001b[39m_dense_predict\n\u001b[0;32m--> 435\u001b[0m \u001b[38;5;28;01mreturn\u001b[39;00m predict(X)\n",
      "File \u001b[0;32m/opt/anaconda3/lib/python3.11/site-packages/sklearn/svm/_base.py:454\u001b[0m, in \u001b[0;36mBaseLibSVM._dense_predict\u001b[0;34m(self, X)\u001b[0m\n\u001b[1;32m    446\u001b[0m         \u001b[38;5;28;01mraise\u001b[39;00m \u001b[38;5;167;01mValueError\u001b[39;00m(\n\u001b[1;32m    447\u001b[0m             \u001b[38;5;124m\"\u001b[39m\u001b[38;5;124mX.shape[1] = \u001b[39m\u001b[38;5;132;01m%d\u001b[39;00m\u001b[38;5;124m should be equal to \u001b[39m\u001b[38;5;132;01m%d\u001b[39;00m\u001b[38;5;124m, \u001b[39m\u001b[38;5;124m\"\u001b[39m\n\u001b[1;32m    448\u001b[0m             \u001b[38;5;124m\"\u001b[39m\u001b[38;5;124mthe number of samples at training time\u001b[39m\u001b[38;5;124m\"\u001b[39m\n\u001b[1;32m    449\u001b[0m             \u001b[38;5;241m%\u001b[39m (X\u001b[38;5;241m.\u001b[39mshape[\u001b[38;5;241m1\u001b[39m], \u001b[38;5;28mself\u001b[39m\u001b[38;5;241m.\u001b[39mshape_fit_[\u001b[38;5;241m0\u001b[39m])\n\u001b[1;32m    450\u001b[0m         )\n\u001b[1;32m    452\u001b[0m svm_type \u001b[38;5;241m=\u001b[39m LIBSVM_IMPL\u001b[38;5;241m.\u001b[39mindex(\u001b[38;5;28mself\u001b[39m\u001b[38;5;241m.\u001b[39m_impl)\n\u001b[0;32m--> 454\u001b[0m \u001b[38;5;28;01mreturn\u001b[39;00m libsvm\u001b[38;5;241m.\u001b[39mpredict(\n\u001b[1;32m    455\u001b[0m     X,\n\u001b[1;32m    456\u001b[0m     \u001b[38;5;28mself\u001b[39m\u001b[38;5;241m.\u001b[39msupport_,\n\u001b[1;32m    457\u001b[0m     \u001b[38;5;28mself\u001b[39m\u001b[38;5;241m.\u001b[39msupport_vectors_,\n\u001b[1;32m    458\u001b[0m     \u001b[38;5;28mself\u001b[39m\u001b[38;5;241m.\u001b[39m_n_support,\n\u001b[1;32m    459\u001b[0m     \u001b[38;5;28mself\u001b[39m\u001b[38;5;241m.\u001b[39m_dual_coef_,\n\u001b[1;32m    460\u001b[0m     \u001b[38;5;28mself\u001b[39m\u001b[38;5;241m.\u001b[39m_intercept_,\n\u001b[1;32m    461\u001b[0m     \u001b[38;5;28mself\u001b[39m\u001b[38;5;241m.\u001b[39m_probA,\n\u001b[1;32m    462\u001b[0m     \u001b[38;5;28mself\u001b[39m\u001b[38;5;241m.\u001b[39m_probB,\n\u001b[1;32m    463\u001b[0m     svm_type\u001b[38;5;241m=\u001b[39msvm_type,\n\u001b[1;32m    464\u001b[0m     kernel\u001b[38;5;241m=\u001b[39mkernel,\n\u001b[1;32m    465\u001b[0m     degree\u001b[38;5;241m=\u001b[39m\u001b[38;5;28mself\u001b[39m\u001b[38;5;241m.\u001b[39mdegree,\n\u001b[1;32m    466\u001b[0m     coef0\u001b[38;5;241m=\u001b[39m\u001b[38;5;28mself\u001b[39m\u001b[38;5;241m.\u001b[39mcoef0,\n\u001b[1;32m    467\u001b[0m     gamma\u001b[38;5;241m=\u001b[39m\u001b[38;5;28mself\u001b[39m\u001b[38;5;241m.\u001b[39m_gamma,\n\u001b[1;32m    468\u001b[0m     cache_size\u001b[38;5;241m=\u001b[39m\u001b[38;5;28mself\u001b[39m\u001b[38;5;241m.\u001b[39mcache_size,\n\u001b[1;32m    469\u001b[0m )\n",
      "\u001b[0;31mKeyboardInterrupt\u001b[0m: "
     ]
    }
   ],
   "source": [
    "svmmodel(1,10,\"rs_prod_3\", 10)"
   ]
  },
  {
   "cell_type": "code",
   "execution_count": 102,
   "id": "558b6782",
   "metadata": {},
   "outputs": [],
   "source": [
    "def Proportion(start_month, end_month, target=\"rs_prod_1\", proportion=10):\n",
    "    if(target==\"rs_prod_1\"):\n",
    "        print(\"目前的主題是貸款\")\n",
    "    elif(target==\"rs_prod_2\"):\n",
    "        print(\"目前的主題是換匯\")\n",
    "    else:\n",
    "        print(\"目前的主題是基金\")\n",
    "    # 資料預處理\n",
    "    train_df = data[(data[\"yyyymm\"] <= f\"2023-{end_month}\") & (data[\"yyyymm\"] >= \"2022-12\")]\n",
    "    test_df = data[data[\"yyyymm\"] == f\"2023-{end_month+1}\"]\n",
    "    train_df_0 = train_df[train_df[f\"{target}\"]==0]\n",
    "    train_df_1 = train_df[train_df[f\"{target}\"]==1]\n",
    "    sampled_df = train_df_0.sample(n=proportion*len(train_df_1), random_state=1)\n",
    "    result_df = pd.concat([sampled_df, train_df_1], ignore_index=True)\n",
    "    print(f\"目前訓練集包含{int(len(train_df)/200000)}個月的資料\")\n",
    "    print(f\"訓練集大小為: {len(result_df)}\")\n",
    "    # 設定訓練集和測試集\n",
    "    features_train = result_df.drop([f'{target}', 'yyyymm'], axis=1)\n",
    "    target_train = result_df[f'{target}']\n",
    "    features_test = test_df.drop([f'{target}', 'yyyymm'], axis=1)\n",
    "    target_test = test_df[f'{target}']\n",
    "    # 訓練模型\n",
    "    model = LogisticRegression()\n",
    "    model.fit(features_train, target_train)\n",
    "    # # 在測試集上進行預測\n",
    "    y_pred = model.predict(features_test)\n",
    "\n",
    "    # 評估模型\n",
    "    print(\"Accuracy:\", accuracy_score(target_test, y_pred))\n",
    "    print(\"Classification Report:\\n\", classification_report(target_test, y_pred))\n",
    "    print(\"CM Report:\\n\",confusion_matrix(target_test, y_pred))"
   ]
  },
  {
   "cell_type": "code",
   "execution_count": 103,
   "id": "43cce7d3",
   "metadata": {},
   "outputs": [
    {
     "name": "stdout",
     "output_type": "stream",
     "text": [
      "目前的主題是基金\n",
      "目前訓練集包含6個月的資料\n",
      "訓練集大小為: 272987\n"
     ]
    },
    {
     "name": "stderr",
     "output_type": "stream",
     "text": [
      "/opt/anaconda3/lib/python3.11/site-packages/sklearn/linear_model/_logistic.py:458: ConvergenceWarning: lbfgs failed to converge (status=1):\n",
      "STOP: TOTAL NO. of ITERATIONS REACHED LIMIT.\n",
      "\n",
      "Increase the number of iterations (max_iter) or scale the data as shown in:\n",
      "    https://scikit-learn.org/stable/modules/preprocessing.html\n",
      "Please also refer to the documentation for alternative solver options:\n",
      "    https://scikit-learn.org/stable/modules/linear_model.html#logistic-regression\n",
      "  n_iter_i = _check_optimize_result(\n"
     ]
    },
    {
     "name": "stdout",
     "output_type": "stream",
     "text": [
      "Accuracy: 0.96944\n",
      "Classification Report:\n",
      "               precision    recall  f1-score   support\n",
      "\n",
      "           0       0.98      0.99      0.98    195939\n",
      "           1       0.15      0.11      0.13      4061\n",
      "\n",
      "    accuracy                           0.97    200000\n",
      "   macro avg       0.57      0.55      0.56    200000\n",
      "weighted avg       0.96      0.97      0.97    200000\n",
      "\n",
      "CM Report:\n",
      " [[193441   2498]\n",
      " [  3614    447]]\n"
     ]
    }
   ],
   "source": [
    "Proportion(1,5,\"rs_prod_3\", 10)"
   ]
  }
 ],
 "metadata": {
  "kernelspec": {
   "display_name": "Python 3 (ipykernel)",
   "language": "python",
   "name": "python3"
  },
  "language_info": {
   "codemirror_mode": {
    "name": "ipython",
    "version": 3
   },
   "file_extension": ".py",
   "mimetype": "text/x-python",
   "name": "python",
   "nbconvert_exporter": "python",
   "pygments_lexer": "ipython3",
   "version": "3.11.7"
  }
 },
 "nbformat": 4,
 "nbformat_minor": 5
}
